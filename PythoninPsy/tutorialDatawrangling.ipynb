{
 "cells": [
  {
   "cell_type": "markdown",
   "metadata": {},
   "source": [
    "# A brief tour of data wrangling for psychologists in python"
   ]
  },
  {
   "cell_type": "markdown",
   "metadata": {},
   "source": [
    "## By using python for data analyses, you win:\n",
    "\n",
    "- A real programming language (i.e. more transferable skill) \n",
    "- Beauty, elegance, **readability**, in short the zen of python (ex?) \n",
    "- The ultimate glue/scripting language\n",
    "- Usually more straightforward to do non-statistical tasks in Python (than in R), e.g. fancy preprocessing, string processing, web scraping, file handling,...\n",
    "- Connections to many well-developed scientific libraries: numpy (matrix computations), scipy (scientific computing), scikit.image (image processing), scikit.learn (machine learning),...\n",
    "- Interactive notebooks! (because the [paper is getting obsolete](https://www.theatlantic.com/science/archive/2018/04/the-scientific-paper-is-obsolete/556676/))"
   ]
  },
  {
   "cell_type": "markdown",
   "metadata": {},
   "source": [
    "## You lose:\n",
    "\n",
    "- Switch cost (often considerable for non-professional programmers) when you program experiments in python anyway \n",
    "- Basic data analysis functionality that is not built-in but available through libraries (even more modular than R)\n",
    "- Specific advanced analysis techniques not available (others, such as machine learning tools are often better supported in python). This is rapidly improving, but still more in alpha/beta stage instead of finished/tested/documented libraries.\n",
    "- The large knowledge base/support (as a statistics tool) that R has (e.g. in the department)"
   ]
  },
  {
   "cell_type": "markdown",
   "metadata": {},
   "source": [
    "# But lots of commonalities in the logic of data wrangling, plotting & analyzing\n",
    "\n",
    "No reason to choose, you can use both **depending on your needs or processing stage**. For example:\n",
    "\n",
    "- You wrote your experiment in python and want to do some preliminary preprocessing or (descriptive) analyses on single-subject data immediately after this individual is tested. You don't need to switch to R (the psychopy trialHandler gives you immediate access to a pandas dataframe of your data).\n",
    "- You want to automatize some operation on files such as datafiles, images, etc. (renaming, reformatting, resizing, or equating images on some feature) or on strings in files (eg your recorded data does not have the right formatting). This is easier in python.\n",
    "- Then you want to take advantage of tidyverse/ggplot2, you switch to R.\n",
    "- You want to do a (generalized) mixed model or Bayesian analysis, you stay in R.\n",
    "- You like to apply a fancy machine learning algorithm to your data, you switch to python again.\n",
    "\n",
    "All steps can be done in either language but effort/support differs depending on case.\n"
   ]
  },
  {
   "cell_type": "markdown",
   "metadata": {},
   "source": [
    "# In python statistical functionality is not built-in..."
   ]
  },
  {
   "cell_type": "markdown",
   "metadata": {},
   "source": [
    "### Useful python packages for psychologists\n",
    "\n",
    "#### In order of importance:\n",
    "- [Jupyter notebooks](http://jupyter.org/) or better: [Jupyterlab](https://blog.jupyter.org/jupyterlab-is-ready-for-users-5a6f039b8906) (the Rstudio of python, with interactive \"shiny app\"-like functionality)\n",
    "- [pandas](https://pandas.pydata.org/): data handling & descriptive analyses, \n",
    "- Plotting: [matplotlib](https://matplotlib.org/) (~R base plotting), [seaborn](http://seaborn.pydata.org/index.html) (written by a cognitive neuroscientist) and/or [plotnine](http://plotnine.readthedocs.io/en/stable/) (ggplot2 alternative)\n",
    "- [statsmodels](https://www.statsmodels.org): statistical models (glm, t-tests,...)\n",
    "- Specialized analyses: [Psignifit](http://psignifit.sourceforge.net/) (psychometric function fitting), [Bambi](https://github.com/bambinos/bambi)/[Kabuki](https://github.com/hddm-devs/kabuki) (hierarchical bayesian models), [NIPY](http://nipy.org/), [MNE](http://martinos.org/mne/stable/index.html), [PyMVPA](http://www.pymvpa.org/) \n",
    "- [More libraries](https://www.marsja.se/best-python-libraries-psychology/)"
   ]
  },
  {
   "cell_type": "code",
   "execution_count": 4,
   "metadata": {},
   "outputs": [
    {
     "name": "stdout",
     "output_type": "stream",
     "text": [
      "Matplotlib Version: 2.2.3\n",
      "NumPy Version: 1.15.2\n",
      "('Pandas Version:', u'0.23.0')\n",
      "Python Version: 2.7.15+ (default, Oct  2 2018, 22:12:08) \n",
      "[GCC 8.2.0]\n",
      "Ran on 2018-11-14T18:39:29.291564\n",
      "{'commit_hash': u'a0d6ad545',\n",
      " 'commit_source': 'installation',\n",
      " 'default_encoding': 'UTF-8',\n",
      " 'ipython_path': '/usr/local/lib/python2.7/dist-packages/IPython',\n",
      " 'ipython_version': '5.7.0',\n",
      " 'os_name': 'posix',\n",
      " 'platform': 'Linux-4.18.0-10-generic-x86_64-with-Ubuntu-18.10-cosmic',\n",
      " 'sys_executable': '/usr/bin/python',\n",
      " 'sys_platform': 'linux2',\n",
      " 'sys_version': '2.7.15+ (default, Oct  2 2018, 22:12:08) \\n[GCC 8.2.0]'}\n",
      "matplotlib==2.2.3\n",
      "pandas==0.23.0\n",
      "seaborn==0.8.1\n",
      "statsmodels==0.8.0\n"
     ]
    }
   ],
   "source": [
    "import numpy as np\n",
    "import matplotlib as mpl\n",
    "import matplotlib.pyplot as plt # roughly ~base R plotting functionality\n",
    "import pandas as pd #roughly ~base R & tidyr functionality \n",
    "import seaborn as sns #roughly ~ggplot2 functionality\n",
    "import statsmodels.api as sm\n",
    "import statsmodels.formula.api as smf\n",
    "import warnings\n",
    "warnings.filterwarnings('ignore')\n",
    "\n",
    "#to make the plots appear inline, and saved in notebook:\n",
    "%matplotlib inline\n",
    "sns.set_context(\"talk\") # seaborn function to make plots according to purpose (talk, paper, poster, notebook)\n",
    "\n",
    "# We'll show people what versions we use\n",
    "import datetime\n",
    "now  = datetime.datetime.now().isoformat()\n",
    "print('Ran on ' + now)\n",
    "import IPython\n",
    "print(IPython.sys_info())\n",
    "!pip freeze | grep -E 'seaborn|matplotlib|pandas|statsmodels'"
   ]
  },
  {
   "cell_type": "markdown",
   "metadata": {},
   "source": [
    "# Pandas for data wrangling\n",
    "![Image of panda](https://media.giphy.com/media/MpjZmG4eTvso8/giphy.gif)\n",
    "\n",
    "Multiple great tutorials already exist on how to handle, clean and shaping data into the right format(s) for your visualizations and analyses in python. I was helped by the [10 minutes to pandas tutorial](https://pandas.pydata.org/pandas-docs/stable/10min.html), this [brief overview](https://drive.google.com/open?id=0BwlD7q-DXkdWRUMyc19NdGNKRHc), I still regularly need to check this [cheat sheet](https://drive.google.com/open?id=0BwlD7q-DXkdWVkJQLVhGeHA3elk), and of course google/stackoverflow gives you access to the very bright and helpful python data science community. \n",
    "\n",
    "If you want a more thorough explanation of pandas, check this [book on python for data analysis](https://drive.google.com/open?id=0BwlD7q-DXkdWZHB6a0szLVN5WDQ) or this [Python Data Science Handbook](https://github.com/jakevdp/PythonDataScienceHandbook).\n",
    "\n",
    "Rather than rehash what's in those works, we will learn by example using the data from a Navon experiment with hierarchical letters probing precedence and interference of global processing. For more background and a description of the experiment, see [Chamberlain et al. (2017)](https://drive.google.com/open?id=0BwlD7q-DXkdWeEJaUWtwaTlPYU0):\n",
    "\n",
    "> \"The Navon task was a modified version of a hierarchical letter paradigm (Navon, 1977), designed to reduce the potential influence of factors confounding global processing such as spatial location and variation in shape characteristics. Participants were required to distinguish whether a global letter shape made up of local letters or the local letters themselves were vowels or consonants (Fig. 1). Vowel and consonant letter shapes were kept as comparable as possible. There were 5 consonant types (C, D, F, H, T) and 5 vowel types (A, E, I, O, U). Trial congruency was defined by the category type (vowel/consonant). In some congruent trials the exact letter identity matched between local and global stimulus levels, whilst in all other congruent trials only the category type matched. Presentation location of the test stimulus was randomized on a trial-by-trial basis, in order to eliminate the ability of participants to fixate on local spatial locations to determine global shape. The stimulus was presented in one of four corners of a 100x100-pixel square around central fixation. There were 10 practice trials followed by two blocks of 100 experimental trials.\n",
    "In alternate blocks whose order was randomized, participants were instructed to either focus on the global letter shape (global selective attention) or on the local letter shapes (local selective attention) and press the ‘J’ key if the letter was a vowel, and the ‘F’ key if the letter was a consonant. Each trial began with a fixation cross presented for 1000 ms. The fixation cross then disappeared and was followed by the experimental stimulus (a white letter\n",
    "shape on a black background). The stimuli were presented for 300 ms followed by a 4 s response window. Feedback was presented in the form of a coloured (red/green) fixation cross which also encouraged central fixation for the next trial. Both accuracy and reaction time(s) were recorded. Stimulus presentation and data collection were controlled using the Psychopy package (Peirce, 2007) and stimuli were created using the MATLAB toolbox GERT (v1.20) (Demeyer & Machilsen, 2012).\"\n",
    "\n",
    "<img src=\"https://ai2-s2-public.s3.amazonaws.com/figures/2017-08-08/5dfad0622ef45b90e53baae9ddd7c42609497a00/3-Figure1-1.png\" width=500>"
   ]
  },
  {
   "cell_type": "markdown",
   "metadata": {},
   "source": [
    "### Reading in our data..."
   ]
  },
  {
   "cell_type": "code",
   "execution_count": 153,
   "metadata": {},
   "outputs": [
    {
     "name": "stdout",
     "output_type": "stream",
     "text": [
      "/home/sander/Bureaublad/Dropbox/exp/Reproducible_workflow_tutorial/PythoninPsy\n",
      "CO10  demographicNavonGlobCO10.csv  demographicNavonLocCO10.csv\n",
      "CO12  demographicNavonGlobCO12.csv  demographicNavonLocCO12.csv\n"
     ]
    }
   ],
   "source": [
    "!pwd\n",
    "!ls data/ #we can use shell commands to see where the data is (ls=dir on windows)"
   ]
  },
  {
   "cell_type": "code",
   "execution_count": 6,
   "metadata": {},
   "outputs": [
    {
     "data": {
      "text/html": [
       "<div>\n",
       "<style scoped>\n",
       "    .dataframe tbody tr th:only-of-type {\n",
       "        vertical-align: middle;\n",
       "    }\n",
       "\n",
       "    .dataframe tbody tr th {\n",
       "        vertical-align: top;\n",
       "    }\n",
       "\n",
       "    .dataframe thead th {\n",
       "        text-align: right;\n",
       "    }\n",
       "</style>\n",
       "<table border=\"1\" class=\"dataframe\">\n",
       "  <thead>\n",
       "    <tr style=\"text-align: right;\">\n",
       "      <th></th>\n",
       "      <th>acc_mean</th>\n",
       "      <th>acc_raw</th>\n",
       "      <th>acc_std</th>\n",
       "      <th>age</th>\n",
       "      <th>cond</th>\n",
       "      <th>condition</th>\n",
       "      <th>congruence</th>\n",
       "      <th>corrAns</th>\n",
       "      <th>expversion</th>\n",
       "      <th>gender</th>\n",
       "      <th>...</th>\n",
       "      <th>n</th>\n",
       "      <th>order</th>\n",
       "      <th>participant</th>\n",
       "      <th>resp_raw</th>\n",
       "      <th>rt_mean</th>\n",
       "      <th>rt_raw</th>\n",
       "      <th>rt_std</th>\n",
       "      <th>stimFile</th>\n",
       "      <th>xPos</th>\n",
       "      <th>yPos</th>\n",
       "    </tr>\n",
       "  </thead>\n",
       "  <tbody>\n",
       "    <tr>\n",
       "      <th>0</th>\n",
       "      <td>1</td>\n",
       "      <td>1</td>\n",
       "      <td>0</td>\n",
       "      <td>18.0</td>\n",
       "      <td>selAttGlob</td>\n",
       "      <td>Cc</td>\n",
       "      <td>congruent</td>\n",
       "      <td>['f']</td>\n",
       "      <td>NaN</td>\n",
       "      <td>F</td>\n",
       "      <td>...</td>\n",
       "      <td>1</td>\n",
       "      <td>18</td>\n",
       "      <td>12277</td>\n",
       "      <td>'f'</td>\n",
       "      <td>0,746331811</td>\n",
       "      <td>0,746331811</td>\n",
       "      <td>0</td>\n",
       "      <td>Global_C_local_C.png</td>\n",
       "      <td>NaN</td>\n",
       "      <td>-50</td>\n",
       "    </tr>\n",
       "    <tr>\n",
       "      <th>1</th>\n",
       "      <td>1</td>\n",
       "      <td>1</td>\n",
       "      <td>0</td>\n",
       "      <td>18.0</td>\n",
       "      <td>selAttGlob</td>\n",
       "      <td>Cc</td>\n",
       "      <td>congruent</td>\n",
       "      <td>['f']</td>\n",
       "      <td>NaN</td>\n",
       "      <td>F</td>\n",
       "      <td>...</td>\n",
       "      <td>1</td>\n",
       "      <td>41</td>\n",
       "      <td>12277</td>\n",
       "      <td>'f'</td>\n",
       "      <td>0,687273145</td>\n",
       "      <td>0,687273145</td>\n",
       "      <td>0</td>\n",
       "      <td>Global_C_local_D.png</td>\n",
       "      <td>NaN</td>\n",
       "      <td>50</td>\n",
       "    </tr>\n",
       "    <tr>\n",
       "      <th>2</th>\n",
       "      <td>1</td>\n",
       "      <td>1</td>\n",
       "      <td>0</td>\n",
       "      <td>18.0</td>\n",
       "      <td>selAttGlob</td>\n",
       "      <td>Cc</td>\n",
       "      <td>congruent</td>\n",
       "      <td>['f']</td>\n",
       "      <td>NaN</td>\n",
       "      <td>F</td>\n",
       "      <td>...</td>\n",
       "      <td>1</td>\n",
       "      <td>46</td>\n",
       "      <td>12277</td>\n",
       "      <td>'f'</td>\n",
       "      <td>0,705967069</td>\n",
       "      <td>0,705967069</td>\n",
       "      <td>0</td>\n",
       "      <td>Global_C_local_F.png</td>\n",
       "      <td>NaN</td>\n",
       "      <td>-50</td>\n",
       "    </tr>\n",
       "    <tr>\n",
       "      <th>3</th>\n",
       "      <td>1</td>\n",
       "      <td>1</td>\n",
       "      <td>0</td>\n",
       "      <td>18.0</td>\n",
       "      <td>selAttGlob</td>\n",
       "      <td>Cc</td>\n",
       "      <td>congruent</td>\n",
       "      <td>['f']</td>\n",
       "      <td>NaN</td>\n",
       "      <td>F</td>\n",
       "      <td>...</td>\n",
       "      <td>1</td>\n",
       "      <td>78</td>\n",
       "      <td>12277</td>\n",
       "      <td>'f'</td>\n",
       "      <td>0,661773503</td>\n",
       "      <td>0,661773503</td>\n",
       "      <td>0</td>\n",
       "      <td>Global_C_local_H.png</td>\n",
       "      <td>NaN</td>\n",
       "      <td>-50</td>\n",
       "    </tr>\n",
       "    <tr>\n",
       "      <th>4</th>\n",
       "      <td>1</td>\n",
       "      <td>1</td>\n",
       "      <td>0</td>\n",
       "      <td>18.0</td>\n",
       "      <td>selAttGlob</td>\n",
       "      <td>Cc</td>\n",
       "      <td>congruent</td>\n",
       "      <td>['f']</td>\n",
       "      <td>NaN</td>\n",
       "      <td>F</td>\n",
       "      <td>...</td>\n",
       "      <td>1</td>\n",
       "      <td>74</td>\n",
       "      <td>12277</td>\n",
       "      <td>'f'</td>\n",
       "      <td>0,794407368</td>\n",
       "      <td>0,794407368</td>\n",
       "      <td>0</td>\n",
       "      <td>Global_C_local_T.png</td>\n",
       "      <td>NaN</td>\n",
       "      <td>-50</td>\n",
       "    </tr>\n",
       "  </tbody>\n",
       "</table>\n",
       "<p>5 rows × 21 columns</p>\n",
       "</div>"
      ],
      "text/plain": [
       "   acc_mean  acc_raw  acc_std   age        cond condition congruence corrAns  \\\n",
       "0         1        1        0  18.0  selAttGlob        Cc  congruent   ['f']   \n",
       "1         1        1        0  18.0  selAttGlob        Cc  congruent   ['f']   \n",
       "2         1        1        0  18.0  selAttGlob        Cc  congruent   ['f']   \n",
       "3         1        1        0  18.0  selAttGlob        Cc  congruent   ['f']   \n",
       "4         1        1        0  18.0  selAttGlob        Cc  congruent   ['f']   \n",
       "\n",
       "  expversion gender  ...   n  order  participant  resp_raw      rt_mean  \\\n",
       "0        NaN      F  ...   1     18        12277       'f'  0,746331811   \n",
       "1        NaN      F  ...   1     41        12277       'f'  0,687273145   \n",
       "2        NaN      F  ...   1     46        12277       'f'  0,705967069   \n",
       "3        NaN      F  ...   1     78        12277       'f'  0,661773503   \n",
       "4        NaN      F  ...   1     74        12277       'f'  0,794407368   \n",
       "\n",
       "        rt_raw rt_std              stimFile xPos  yPos  \n",
       "0  0,746331811      0  Global_C_local_C.png  NaN   -50  \n",
       "1  0,687273145      0  Global_C_local_D.png  NaN    50  \n",
       "2  0,705967069      0  Global_C_local_F.png  NaN   -50  \n",
       "3  0,661773503      0  Global_C_local_H.png  NaN   -50  \n",
       "4  0,794407368      0  Global_C_local_T.png  NaN   -50  \n",
       "\n",
       "[5 rows x 21 columns]"
      ]
     },
     "execution_count": 6,
     "metadata": {},
     "output_type": "execute_result"
    }
   ],
   "source": [
    "import glob, os #to work with paths\n",
    "\n",
    "df = pd.DataFrame()\n",
    "folders = ['CO10','CO12'] # the raw data is in two different folders\n",
    "\n",
    "for folder in folders:\n",
    "    if folder=='CO10': sep=';' #data in different folders use different field separators\n",
    "    else: sep=','\n",
    "    \n",
    "    all_files = glob.glob(os.path.join('data', folder, \"*.csv\")) # get list of individual data files\n",
    "    df_from_each_file = (pd.read_csv(f,  sep=sep, index_col=0) for f in all_files)\n",
    "    concatenated_df = pd.concat(df_from_each_file, ignore_index=True)\n",
    "    df = df.append([df,concatenated_df])\n",
    "\n",
    "df.head()"
   ]
  },
  {
   "cell_type": "code",
   "execution_count": 7,
   "metadata": {},
   "outputs": [
    {
     "data": {
      "text/html": [
       "<div>\n",
       "<style scoped>\n",
       "    .dataframe tbody tr th:only-of-type {\n",
       "        vertical-align: middle;\n",
       "    }\n",
       "\n",
       "    .dataframe tbody tr th {\n",
       "        vertical-align: top;\n",
       "    }\n",
       "\n",
       "    .dataframe thead th {\n",
       "        text-align: right;\n",
       "    }\n",
       "</style>\n",
       "<table border=\"1\" class=\"dataframe\">\n",
       "  <thead>\n",
       "    <tr style=\"text-align: right;\">\n",
       "      <th></th>\n",
       "      <th>Subject</th>\n",
       "      <th>age</th>\n",
       "      <th>gender</th>\n",
       "    </tr>\n",
       "  </thead>\n",
       "  <tbody>\n",
       "    <tr>\n",
       "      <th>0</th>\n",
       "      <td>7576</td>\n",
       "      <td>19.0</td>\n",
       "      <td>1.0</td>\n",
       "    </tr>\n",
       "    <tr>\n",
       "      <th>1</th>\n",
       "      <td>10711</td>\n",
       "      <td>20.0</td>\n",
       "      <td>1.0</td>\n",
       "    </tr>\n",
       "    <tr>\n",
       "      <th>2</th>\n",
       "      <td>10771</td>\n",
       "      <td>20.0</td>\n",
       "      <td>1.0</td>\n",
       "    </tr>\n",
       "    <tr>\n",
       "      <th>3</th>\n",
       "      <td>11200</td>\n",
       "      <td>19.0</td>\n",
       "      <td>1.0</td>\n",
       "    </tr>\n",
       "    <tr>\n",
       "      <th>4</th>\n",
       "      <td>11212</td>\n",
       "      <td>18.0</td>\n",
       "      <td>1.0</td>\n",
       "    </tr>\n",
       "  </tbody>\n",
       "</table>\n",
       "</div>"
      ],
      "text/plain": [
       "   Subject   age  gender\n",
       "0     7576  19.0     1.0\n",
       "1    10711  20.0     1.0\n",
       "2    10771  20.0     1.0\n",
       "3    11200  19.0     1.0\n",
       "4    11212  18.0     1.0"
      ]
     },
     "execution_count": 7,
     "metadata": {},
     "output_type": "execute_result"
    }
   ],
   "source": [
    "# add demographics\n",
    "all_files = glob.glob(os.path.join('data', \"*.csv\"))\n",
    "df_from_each_file = (pd.read_csv(f,  sep=sep, index_col=0) for f in all_files)\n",
    "\n",
    "dfdemo = (pd.concat(df_from_each_file, ignore_index=True, axis=0)\n",
    "            .drop_duplicates(['Subject'], keep='first', inplace=False) # drop duplicate rows for subjects\n",
    "            .sort_values('Subject')  \n",
    "         )\n",
    "\n",
    "dfdemo.head()"
   ]
  },
  {
   "cell_type": "markdown",
   "metadata": {},
   "source": [
    "Note the **method chaining** in the example above. Most pandas methods return a DataFrame so that another pandas method can be applied to the result (with the dot formulation). Using the [pandas-ply](https://github.com/coursera/pandas-ply) library you can also use dplyr style piping in pandas. Depending on how you value  code readability, performance or debugging you'll prefer one or the other."
   ]
  },
  {
   "cell_type": "code",
   "execution_count": 34,
   "metadata": {},
   "outputs": [
    {
     "name": "stdout",
     "output_type": "stream",
     "text": [
      "18.0    145\n",
      "19.0     78\n",
      "20.0     24\n",
      "21.0     10\n",
      "23.0      4\n",
      "24.0      4\n",
      "40.0      1\n",
      "28.0      1\n",
      "17.0      1\n",
      "25.0      1\n",
      "41.0      1\n",
      "22.0      1\n",
      "26.0      1\n",
      "Name: age, dtype: int64\n",
      "18.0    145\n",
      "19.0     78\n",
      "20.0     24\n",
      "21.0     10\n",
      "23.0      4\n",
      "24.0      4\n",
      "40.0      1\n",
      "28.0      1\n",
      "17.0      1\n",
      "25.0      1\n",
      "41.0      1\n",
      "22.0      1\n",
      "26.0      1\n",
      "Name: age, dtype: int64\n"
     ]
    }
   ],
   "source": [
    "print dfdemo.age.value_counts()\n",
    "print df.groupby(['participant']).age.apply(lambda x: x.iloc[0]).value_counts()"
   ]
  },
  {
   "cell_type": "code",
   "execution_count": 8,
   "metadata": {},
   "outputs": [],
   "source": [
    "# age column is the same between dfs so we can drop it in the original data before merging\n",
    "df=df.drop(['age'], axis=1)"
   ]
  },
  {
   "cell_type": "code",
   "execution_count": 9,
   "metadata": {},
   "outputs": [
    {
     "data": {
      "text/html": [
       "<div>\n",
       "<style scoped>\n",
       "    .dataframe tbody tr th:only-of-type {\n",
       "        vertical-align: middle;\n",
       "    }\n",
       "\n",
       "    .dataframe tbody tr th {\n",
       "        vertical-align: top;\n",
       "    }\n",
       "\n",
       "    .dataframe thead th {\n",
       "        text-align: right;\n",
       "    }\n",
       "</style>\n",
       "<table border=\"1\" class=\"dataframe\">\n",
       "  <thead>\n",
       "    <tr style=\"text-align: right;\">\n",
       "      <th></th>\n",
       "      <th>acc_mean</th>\n",
       "      <th>acc_raw</th>\n",
       "      <th>acc_std</th>\n",
       "      <th>cond</th>\n",
       "      <th>condition</th>\n",
       "      <th>congruence</th>\n",
       "      <th>corrAns</th>\n",
       "      <th>expversion</th>\n",
       "      <th>gender_x</th>\n",
       "      <th>location</th>\n",
       "      <th>...</th>\n",
       "      <th>resp_raw</th>\n",
       "      <th>rt_mean</th>\n",
       "      <th>rt_raw</th>\n",
       "      <th>rt_std</th>\n",
       "      <th>stimFile</th>\n",
       "      <th>xPos</th>\n",
       "      <th>yPos</th>\n",
       "      <th>Subject</th>\n",
       "      <th>age</th>\n",
       "      <th>gender_y</th>\n",
       "    </tr>\n",
       "  </thead>\n",
       "  <tbody>\n",
       "    <tr>\n",
       "      <th>0</th>\n",
       "      <td>1</td>\n",
       "      <td>1</td>\n",
       "      <td>0</td>\n",
       "      <td>selAttGlob</td>\n",
       "      <td>Cc</td>\n",
       "      <td>congruent</td>\n",
       "      <td>['f']</td>\n",
       "      <td>NaN</td>\n",
       "      <td>F</td>\n",
       "      <td>left_right</td>\n",
       "      <td>...</td>\n",
       "      <td>'f'</td>\n",
       "      <td>0,746331811</td>\n",
       "      <td>0,746331811</td>\n",
       "      <td>0</td>\n",
       "      <td>Global_C_local_C.png</td>\n",
       "      <td>NaN</td>\n",
       "      <td>-50</td>\n",
       "      <td>12277</td>\n",
       "      <td>18.0</td>\n",
       "      <td>1.0</td>\n",
       "    </tr>\n",
       "    <tr>\n",
       "      <th>1</th>\n",
       "      <td>1</td>\n",
       "      <td>1</td>\n",
       "      <td>0</td>\n",
       "      <td>selAttGlob</td>\n",
       "      <td>Cc</td>\n",
       "      <td>congruent</td>\n",
       "      <td>['f']</td>\n",
       "      <td>NaN</td>\n",
       "      <td>F</td>\n",
       "      <td>up_right</td>\n",
       "      <td>...</td>\n",
       "      <td>'f'</td>\n",
       "      <td>0,687273145</td>\n",
       "      <td>0,687273145</td>\n",
       "      <td>0</td>\n",
       "      <td>Global_C_local_D.png</td>\n",
       "      <td>NaN</td>\n",
       "      <td>50</td>\n",
       "      <td>12277</td>\n",
       "      <td>18.0</td>\n",
       "      <td>1.0</td>\n",
       "    </tr>\n",
       "    <tr>\n",
       "      <th>2</th>\n",
       "      <td>1</td>\n",
       "      <td>1</td>\n",
       "      <td>0</td>\n",
       "      <td>selAttGlob</td>\n",
       "      <td>Cc</td>\n",
       "      <td>congruent</td>\n",
       "      <td>['f']</td>\n",
       "      <td>NaN</td>\n",
       "      <td>F</td>\n",
       "      <td>down_right</td>\n",
       "      <td>...</td>\n",
       "      <td>'f'</td>\n",
       "      <td>0,705967069</td>\n",
       "      <td>0,705967069</td>\n",
       "      <td>0</td>\n",
       "      <td>Global_C_local_F.png</td>\n",
       "      <td>NaN</td>\n",
       "      <td>-50</td>\n",
       "      <td>12277</td>\n",
       "      <td>18.0</td>\n",
       "      <td>1.0</td>\n",
       "    </tr>\n",
       "    <tr>\n",
       "      <th>3</th>\n",
       "      <td>1</td>\n",
       "      <td>1</td>\n",
       "      <td>0</td>\n",
       "      <td>selAttGlob</td>\n",
       "      <td>Cc</td>\n",
       "      <td>congruent</td>\n",
       "      <td>['f']</td>\n",
       "      <td>NaN</td>\n",
       "      <td>F</td>\n",
       "      <td>left_right</td>\n",
       "      <td>...</td>\n",
       "      <td>'f'</td>\n",
       "      <td>0,661773503</td>\n",
       "      <td>0,661773503</td>\n",
       "      <td>0</td>\n",
       "      <td>Global_C_local_H.png</td>\n",
       "      <td>NaN</td>\n",
       "      <td>-50</td>\n",
       "      <td>12277</td>\n",
       "      <td>18.0</td>\n",
       "      <td>1.0</td>\n",
       "    </tr>\n",
       "    <tr>\n",
       "      <th>4</th>\n",
       "      <td>1</td>\n",
       "      <td>1</td>\n",
       "      <td>0</td>\n",
       "      <td>selAttGlob</td>\n",
       "      <td>Cc</td>\n",
       "      <td>congruent</td>\n",
       "      <td>['f']</td>\n",
       "      <td>NaN</td>\n",
       "      <td>F</td>\n",
       "      <td>down_right</td>\n",
       "      <td>...</td>\n",
       "      <td>'f'</td>\n",
       "      <td>0,794407368</td>\n",
       "      <td>0,794407368</td>\n",
       "      <td>0</td>\n",
       "      <td>Global_C_local_T.png</td>\n",
       "      <td>NaN</td>\n",
       "      <td>-50</td>\n",
       "      <td>12277</td>\n",
       "      <td>18.0</td>\n",
       "      <td>1.0</td>\n",
       "    </tr>\n",
       "  </tbody>\n",
       "</table>\n",
       "<p>5 rows × 23 columns</p>\n",
       "</div>"
      ],
      "text/plain": [
       "   acc_mean  acc_raw  acc_std        cond condition congruence corrAns  \\\n",
       "0         1        1        0  selAttGlob        Cc  congruent   ['f']   \n",
       "1         1        1        0  selAttGlob        Cc  congruent   ['f']   \n",
       "2         1        1        0  selAttGlob        Cc  congruent   ['f']   \n",
       "3         1        1        0  selAttGlob        Cc  congruent   ['f']   \n",
       "4         1        1        0  selAttGlob        Cc  congruent   ['f']   \n",
       "\n",
       "  expversion gender_x    location    ...     resp_raw      rt_mean  \\\n",
       "0        NaN        F  left_right    ...          'f'  0,746331811   \n",
       "1        NaN        F    up_right    ...          'f'  0,687273145   \n",
       "2        NaN        F  down_right    ...          'f'  0,705967069   \n",
       "3        NaN        F  left_right    ...          'f'  0,661773503   \n",
       "4        NaN        F  down_right    ...          'f'  0,794407368   \n",
       "\n",
       "        rt_raw rt_std              stimFile xPos  yPos Subject   age  gender_y  \n",
       "0  0,746331811      0  Global_C_local_C.png  NaN   -50   12277  18.0       1.0  \n",
       "1  0,687273145      0  Global_C_local_D.png  NaN    50   12277  18.0       1.0  \n",
       "2  0,705967069      0  Global_C_local_F.png  NaN   -50   12277  18.0       1.0  \n",
       "3  0,661773503      0  Global_C_local_H.png  NaN   -50   12277  18.0       1.0  \n",
       "4  0,794407368      0  Global_C_local_T.png  NaN   -50   12277  18.0       1.0  \n",
       "\n",
       "[5 rows x 23 columns]"
      ]
     },
     "execution_count": 9,
     "metadata": {},
     "output_type": "execute_result"
    }
   ],
   "source": [
    "df= pd.merge(df, dfdemo, how='left', left_on='participant', right_on='Subject')\n",
    "df.head()"
   ]
  },
  {
   "cell_type": "code",
   "execution_count": 13,
   "metadata": {},
   "outputs": [
    {
     "data": {
      "image/png": "[encoded data removed]",
      "text/plain": [
       "<Figure size 432x288 with 1 Axes>"
      ]
     },
     "metadata": {},
     "output_type": "display_data"
    }
   ],
   "source": [
    "sns.distplot(df.age.dropna(), kde=False);"
   ]
  },
  {
   "cell_type": "markdown",
   "metadata": {},
   "source": [
    "### Dataframe characteristics"
   ]
  },
  {
   "cell_type": "code",
   "execution_count": 321,
   "metadata": {},
   "outputs": [
    {
     "name": "stdout",
     "output_type": "stream",
     "text": [
      "Variables:\n",
      "Index([u'acc_mean', u'acc_raw', u'acc_std', u'age_x', u'cond', u'condition',\n",
      "       u'congruence', u'corrAns', u'expversion', u'gender_x', u'location',\n",
      "       u'n', u'order', u'participant', u'resp_raw', u'rt_mean', u'rt_raw',\n",
      "       u'rt_std', u'stimFile', u'xPos', u'yPos', u'Subject', u'age_y',\n",
      "       u'gender_y'],\n",
      "      dtype='object')\n",
      "variables:\n",
      "acc_mean         int64\n",
      "acc_raw          int64\n",
      "acc_std          int64\n",
      "age_x          float64\n",
      "cond            object\n",
      "condition       object\n",
      "congruence      object\n",
      "corrAns         object\n",
      "expversion      object\n",
      "gender_x        object\n",
      "location        object\n",
      "n                int64\n",
      "order            int64\n",
      "participant      int64\n",
      "resp_raw        object\n",
      "rt_mean         object\n",
      "rt_raw          object\n",
      "rt_std           int64\n",
      "stimFile        object\n",
      "xPos           float64\n",
      "yPos             int64\n",
      "Subject          int64\n",
      "age_y          float64\n",
      "gender_y       float64\n",
      "dtype: object\n",
      "nb of participants: 275\n",
      "trials per participant: 309\n"
     ]
    }
   ],
   "source": [
    "print 'Variables:\\n', df.columns\n",
    "print 'variables:\\n', df.dtypes\n",
    "print 'nb of participants:', len(df['participant'].unique())\n",
    "print 'trials per participant:', len(df)/ len(df['participant'].unique()) #not exactly"
   ]
  },
  {
   "cell_type": "markdown",
   "metadata": {},
   "source": [
    "## Cleaning data"
   ]
  },
  {
   "cell_type": "code",
   "execution_count": 10,
   "metadata": {},
   "outputs": [],
   "source": [
    "# rename a variable/column\n",
    "df = df.rename(columns={'acc_raw': 'acc', 'rt_raw': 'rt'})"
   ]
  },
  {
   "cell_type": "code",
   "execution_count": 11,
   "metadata": {},
   "outputs": [],
   "source": [
    "#properly format RTs (dot notation)\n",
    "df['rt'] = df['rt'].apply(lambda x: str(x).replace(',','.')).astype('float64')\n",
    "# fill in missing values\n",
    "df.loc[df.rt<0,['rt']]= np.nan"
   ]
  },
  {
   "cell_type": "code",
   "execution_count": 20,
   "metadata": {},
   "outputs": [
    {
     "data": {
      "text/plain": [
       "F    44800\n",
       "M    15600\n",
       "Name: gender_x, dtype: int64"
      ]
     },
     "execution_count": 20,
     "metadata": {},
     "output_type": "execute_result"
    }
   ],
   "source": [
    "# we have 2 gender columns now, how do they compare?\n",
    "df.gender_x.value_counts()"
   ]
  },
  {
   "cell_type": "code",
   "execution_count": 19,
   "metadata": {},
   "outputs": [],
   "source": [
    "# Correcting values in gender column\n",
    "df.loc[df['gender_x'] == 'vrouw', 'gender_x'] = 'F'"
   ]
  },
  {
   "cell_type": "code",
   "execution_count": 30,
   "metadata": {},
   "outputs": [
    {
     "name": "stdout",
     "output_type": "stream",
     "text": [
      "count     151\n",
      "unique      2\n",
      "top         F\n",
      "freq      112\n",
      "Name: gender_x, dtype: object\n",
      "count     60400\n",
      "unique        2\n",
      "top           F\n",
      "freq      44800\n",
      "Name: gender_x, dtype: object\n",
      "F    44800\n",
      "M    15600\n",
      "Name: gender_x, dtype: int64\n"
     ]
    }
   ],
   "source": [
    "df.groupby('gender_x')['participant'].nunique()\n"
   ]
  },
  {
   "cell_type": "code",
   "execution_count": 29,
   "metadata": {},
   "outputs": [
    {
     "name": "stdout",
     "output_type": "stream",
     "text": [
      "count     151.0\n",
      "unique      2.0\n",
      "top         1.0\n",
      "freq      110.0\n",
      "Name: gender_y, dtype: float64\n",
      "count     60400.0\n",
      "unique        2.0\n",
      "top           1.0\n",
      "freq      44000.0\n",
      "Name: gender_y, dtype: float64\n",
      "1.0    44000\n",
      "0.0    16400\n",
      "Name: gender_y, dtype: int64\n"
     ]
    }
   ],
   "source": [
    "# check gender stats\n",
    "df.groupby('gender_y')['participant'].nunique()\n"
   ]
  },
  {
   "cell_type": "code",
   "execution_count": 245,
   "metadata": {},
   "outputs": [
    {
     "data": {
      "text/plain": [
       "acc_mean           0\n",
       "acc                0\n",
       "acc_std            0\n",
       "age_x            600\n",
       "cond               0\n",
       "condition          0\n",
       "congruence         0\n",
       "corrAns            0\n",
       "expversion     60400\n",
       "gender_x       24800\n",
       "location           0\n",
       "n                  0\n",
       "order              0\n",
       "participant        0\n",
       "resp_raw         302\n",
       "rt_mean            0\n",
       "rt               302\n",
       "rt_std             0\n",
       "stimFile           0\n",
       "xPos           60400\n",
       "yPos               0\n",
       "Subject            0\n",
       "age_y            600\n",
       "gender_y       24800\n",
       "dtype: int64"
      ]
     },
     "execution_count": 245,
     "metadata": {},
     "output_type": "execute_result"
    }
   ],
   "source": [
    "# count missing values\n",
    "df.isnull().sum()"
   ]
  },
  {
   "cell_type": "code",
   "execution_count": 12,
   "metadata": {},
   "outputs": [],
   "source": [
    "# Save merged data\n",
    "df.to_csv('dfmerged.csv')"
   ]
  },
  {
   "cell_type": "code",
   "execution_count": 4,
   "metadata": {},
   "outputs": [],
   "source": [
    "# Save merged data\n",
    "df = pd.read_csv('dfmerged.csv')"
   ]
  },
  {
   "cell_type": "markdown",
   "metadata": {},
   "source": [
    "# Group by: split-apply-combine\n",
    "\n",
    "Common operation:\n",
    "- Splitting the data into groups based on some criteria\n",
    "- Applying a function to each group independently\n",
    "- Combining the results into a data structure\n",
    "\n",
    "Can be about: \n",
    "- calculating some aggregate measurement for each group (*agg(function)*, *size()*, *mean()*, *apply(function)*, *rolling()*, etc.)\n",
    "- filtering the rows on a property of the group they belong to (*filter()*)\n",
    "- calculating a new value for each row based on a property of the group (*transform()*), e.g. create a column with Z-scores\n",
    "\n",
    "It helps to start with the result you want, and work backwards from there. If you want to get a single value for each group, use aggregate(), apply() (or one of the shortcuts). If you want to get a subset of the original rows, use filter(). And if you want to get a new value for each original row, use transform(). Check [this page](https://pandas.pydata.org/pandas-docs/stable/cookbook.html#cookbook-grouping) for some more advanced groupby recipes. Note that *apply()* is [most flexible](http://pandas-docs.github.io/pandas-docs-travis/groupby.html#flexible-apply) because it can implement an aggregate or a transform, and anything in between. Examples follow..."
   ]
  },
  {
   "cell_type": "code",
   "execution_count": 289,
   "metadata": {},
   "outputs": [
    {
     "data": {
      "text/plain": [
       "cond        congruence \n",
       "selAttGlob  congruent      0.918967\n",
       "            incongruent    0.899812\n",
       "selAttLoc   congruent      0.936808\n",
       "            incongruent    0.894413\n",
       "Name: acc, dtype: float64"
      ]
     },
     "execution_count": 289,
     "metadata": {},
     "output_type": "execute_result"
    }
   ],
   "source": [
    "df.groupby(['cond', 'congruence']).acc.mean() #.reset_index()"
   ]
  },
  {
   "cell_type": "markdown",
   "metadata": {},
   "source": [
    "Insert a column with standardized RT:"
   ]
  },
  {
   "cell_type": "code",
   "execution_count": 16,
   "metadata": {},
   "outputs": [],
   "source": [
    "zscore = lambda x: (x - x.mean()) / x.std()\n",
    "df.insert(17, 'Zage', df.groupby(['participant'])['age'].transform(zscore))"
   ]
  },
  {
   "cell_type": "markdown",
   "metadata": {},
   "source": [
    "## Removing outliers"
   ]
  },
  {
   "cell_type": "code",
   "execution_count": 13,
   "metadata": {},
   "outputs": [
    {
     "data": {
      "text/plain": [
       "0.08750000000000002"
      ]
     },
     "execution_count": 13,
     "metadata": {},
     "output_type": "execute_result"
    }
   ],
   "source": [
    "# proportion of incorrect trials\n",
    "1-df.acc.mean()"
   ]
  },
  {
   "cell_type": "code",
   "execution_count": 22,
   "metadata": {},
   "outputs": [
    {
     "data": {
      "image/png": "[encoded data removed]",
      "text/plain": [
       "<Figure size 432x288 with 1 Axes>"
      ]
     },
     "metadata": {},
     "output_type": "display_data"
    }
   ],
   "source": [
    "sns.distplot(df.groupby(['participant']).acc.mean(), bins=20);"
   ]
  },
  {
   "cell_type": "markdown",
   "metadata": {},
   "source": [
    "#### Get help on how to use a method:"
   ]
  },
  {
   "cell_type": "code",
   "execution_count": null,
   "metadata": {},
   "outputs": [],
   "source": [
    "?sns.distplot()"
   ]
  },
  {
   "cell_type": "markdown",
   "metadata": {},
   "source": [
    "Or just press *shift-tab* when cursor is on a method/module to view info. Note that you can find all jupyter lab commands in the left panel, under the *Commands* tab. You can also open a console (file-> view console for notebook) to quickly try out some code before entering them in a cell."
   ]
  },
  {
   "cell_type": "markdown",
   "metadata": {},
   "source": [
    "#### Remove participants with mean accuracy lower than (mean acc - 2.5*std of accuracy) "
   ]
  },
  {
   "cell_type": "code",
   "execution_count": 14,
   "metadata": {},
   "outputs": [
    {
     "name": "stdout",
     "output_type": "stream",
     "text": [
      "266\n"
     ]
    }
   ],
   "source": [
    "df = df.groupby('participant').filter(\n",
    "    lambda x : x['acc'].mean() > df.acc.mean()-(2.5*df.groupby(['participant']).acc.mean().std()))\n",
    "\n",
    "print len(df.participant.unique())"
   ]
  },
  {
   "cell_type": "code",
   "execution_count": 45,
   "metadata": {},
   "outputs": [
    {
     "data": {
      "image/png": "[encoded data removed]",
      "text/plain": [
       "<Figure size 432x288 with 1 Axes>"
      ]
     },
     "metadata": {},
     "output_type": "display_data"
    }
   ],
   "source": [
    "sns.distplot(df.groupby(['participant']).acc.mean(), bins=20);"
   ]
  },
  {
   "cell_type": "markdown",
   "metadata": {},
   "source": [
    "# RT analysis"
   ]
  },
  {
   "cell_type": "code",
   "execution_count": 15,
   "metadata": {},
   "outputs": [],
   "source": [
    "# discard incorrect trials for RT analyses\n",
    "dfrt = df[df.acc==1]"
   ]
  },
  {
   "cell_type": "code",
   "execution_count": 16,
   "metadata": {},
   "outputs": [
    {
     "data": {
      "image/png": "[encoded data removed]",
      "text/plain": [
       "<Figure size 432x288 with 1 Axes>"
      ]
     },
     "metadata": {},
     "output_type": "display_data"
    }
   ],
   "source": [
    "sns.distplot(dfrt.rt);"
   ]
  },
  {
   "cell_type": "markdown",
   "metadata": {},
   "source": [
    "#### Remove participants with mean rt lower than (overall mean rt - 2.5*std of rt)"
   ]
  },
  {
   "cell_type": "code",
   "execution_count": 16,
   "metadata": {},
   "outputs": [
    {
     "name": "stdout",
     "output_type": "stream",
     "text": [
      "258\n"
     ]
    }
   ],
   "source": [
    "dfrt = dfrt.groupby('participant').filter(\n",
    "    lambda x : x['rt'].mean() < df.rt.mean()+(2.5*df.groupby(['participant']).rt.mean().std()))\n",
    "\n",
    "print len(dfrt.participant.unique())"
   ]
  },
  {
   "cell_type": "code",
   "execution_count": 18,
   "metadata": {},
   "outputs": [
    {
     "data": {
      "image/png": "[encoded data removed]",
      "text/plain": [
       "<Figure size 432x288 with 1 Axes>"
      ]
     },
     "metadata": {},
     "output_type": "display_data"
    }
   ],
   "source": [
    "sns.distplot(dfrt.rt);"
   ]
  },
  {
   "cell_type": "markdown",
   "metadata": {},
   "source": [
    "#### One could define outlier RTs on the individual level as well..."
   ]
  },
  {
   "cell_type": "code",
   "execution_count": 14,
   "metadata": {},
   "outputs": [
    {
     "data": {
      "text/plain": [
       "85200"
      ]
     },
     "execution_count": 14,
     "metadata": {},
     "output_type": "execute_result"
    }
   ],
   "source": [
    "len(dfrt)"
   ]
  },
  {
   "cell_type": "code",
   "execution_count": 19,
   "metadata": {},
   "outputs": [
    {
     "data": {
      "text/plain": [
       "82200"
      ]
     },
     "execution_count": 19,
     "metadata": {},
     "output_type": "execute_result"
    }
   ],
   "source": [
    "dfrt = dfrt[dfrt.groupby('participant').rt.transform('mean') +(2.5*dfrt.groupby('participant').rt.transform('std')) > dfrt.rt]\n",
    "len(df)"
   ]
  },
  {
   "cell_type": "code",
   "execution_count": 20,
   "metadata": {},
   "outputs": [
    {
     "data": {
      "image/png": "[encoded data removed]",
      "text/plain": [
       "<Figure size 432x288 with 1 Axes>"
      ]
     },
     "metadata": {},
     "output_type": "display_data"
    }
   ],
   "source": [
    "sns.distplot(dfrt.rt);"
   ]
  },
  {
   "cell_type": "code",
   "execution_count": 21,
   "metadata": {},
   "outputs": [
    {
     "data": {
      "image/png": "[encoded data removed]",
      "text/plain": [
       "<Figure size 432x288 with 1 Axes>"
      ]
     },
     "metadata": {},
     "output_type": "display_data"
    }
   ],
   "source": [
    "fig, ax = plt.subplots()\n",
    "conditions = ['congruent', 'incongruent']\n",
    "\n",
    "for condition in conditions:\n",
    "    condition_data = dfrt[(dfrt['congruence'] == condition) & (dfrt['cond'] == 'selAttGlob')]['rt']\n",
    "    sns.kdeplot(condition_data, shade=True, label=condition)\n",
    "    \n",
    "sns.despine()"
   ]
  },
  {
   "cell_type": "markdown",
   "metadata": {},
   "source": [
    "[More ways](https://www.marsja.se/response-time-distributions-using-python/) to explore RT distributions."
   ]
  },
  {
   "cell_type": "code",
   "execution_count": 52,
   "metadata": {},
   "outputs": [
    {
     "data": {
      "text/html": [
       "<div>\n",
       "<style scoped>\n",
       "    .dataframe tbody tr th:only-of-type {\n",
       "        vertical-align: middle;\n",
       "    }\n",
       "\n",
       "    .dataframe tbody tr th {\n",
       "        vertical-align: top;\n",
       "    }\n",
       "\n",
       "    .dataframe thead th {\n",
       "        text-align: right;\n",
       "    }\n",
       "</style>\n",
       "<table border=\"1\" class=\"dataframe\">\n",
       "  <thead>\n",
       "    <tr style=\"text-align: right;\">\n",
       "      <th></th>\n",
       "      <th></th>\n",
       "      <th></th>\n",
       "      <th>count</th>\n",
       "      <th>mean</th>\n",
       "      <th>std</th>\n",
       "      <th>min</th>\n",
       "      <th>25%</th>\n",
       "      <th>50%</th>\n",
       "      <th>75%</th>\n",
       "      <th>max</th>\n",
       "    </tr>\n",
       "    <tr>\n",
       "      <th>condition</th>\n",
       "      <th>cond</th>\n",
       "      <th>congruence</th>\n",
       "      <th></th>\n",
       "      <th></th>\n",
       "      <th></th>\n",
       "      <th></th>\n",
       "      <th></th>\n",
       "      <th></th>\n",
       "      <th></th>\n",
       "      <th></th>\n",
       "    </tr>\n",
       "  </thead>\n",
       "  <tbody>\n",
       "    <tr>\n",
       "      <th rowspan=\"2\" valign=\"top\">Cc</th>\n",
       "      <th>selAttGlob</th>\n",
       "      <th>congruent</th>\n",
       "      <td>9009.0</td>\n",
       "      <td>0.542534</td>\n",
       "      <td>0.127964</td>\n",
       "      <td>0.207480</td>\n",
       "      <td>0.461660</td>\n",
       "      <td>0.523406</td>\n",
       "      <td>0.598791</td>\n",
       "      <td>1.582623</td>\n",
       "    </tr>\n",
       "    <tr>\n",
       "      <th>selAttLoc</th>\n",
       "      <th>congruent</th>\n",
       "      <td>9089.0</td>\n",
       "      <td>0.556194</td>\n",
       "      <td>0.135140</td>\n",
       "      <td>0.189890</td>\n",
       "      <td>0.466694</td>\n",
       "      <td>0.536255</td>\n",
       "      <td>0.615781</td>\n",
       "      <td>1.714776</td>\n",
       "    </tr>\n",
       "    <tr>\n",
       "      <th rowspan=\"2\" valign=\"top\">Cv</th>\n",
       "      <th>selAttGlob</th>\n",
       "      <th>incongruent</th>\n",
       "      <td>8721.0</td>\n",
       "      <td>0.559838</td>\n",
       "      <td>0.142280</td>\n",
       "      <td>0.102924</td>\n",
       "      <td>0.469102</td>\n",
       "      <td>0.538965</td>\n",
       "      <td>0.618073</td>\n",
       "      <td>1.845350</td>\n",
       "    </tr>\n",
       "    <tr>\n",
       "      <th>selAttLoc</th>\n",
       "      <th>incongruent</th>\n",
       "      <td>8708.0</td>\n",
       "      <td>0.539550</td>\n",
       "      <td>0.123220</td>\n",
       "      <td>0.068658</td>\n",
       "      <td>0.453851</td>\n",
       "      <td>0.524752</td>\n",
       "      <td>0.606011</td>\n",
       "      <td>1.735075</td>\n",
       "    </tr>\n",
       "    <tr>\n",
       "      <th rowspan=\"2\" valign=\"top\">Vc</th>\n",
       "      <th>selAttGlob</th>\n",
       "      <th>incongruent</th>\n",
       "      <td>8958.0</td>\n",
       "      <td>0.523678</td>\n",
       "      <td>0.125208</td>\n",
       "      <td>0.069782</td>\n",
       "      <td>0.439635</td>\n",
       "      <td>0.509356</td>\n",
       "      <td>0.581043</td>\n",
       "      <td>1.911829</td>\n",
       "    </tr>\n",
       "    <tr>\n",
       "      <th>selAttLoc</th>\n",
       "      <th>incongruent</th>\n",
       "      <td>8651.0</td>\n",
       "      <td>0.584175</td>\n",
       "      <td>0.142684</td>\n",
       "      <td>0.015780</td>\n",
       "      <td>0.491742</td>\n",
       "      <td>0.563984</td>\n",
       "      <td>0.648891</td>\n",
       "      <td>1.976961</td>\n",
       "    </tr>\n",
       "    <tr>\n",
       "      <th rowspan=\"2\" valign=\"top\">Vv</th>\n",
       "      <th>selAttGlob</th>\n",
       "      <th>congruent</th>\n",
       "      <td>9092.0</td>\n",
       "      <td>0.513652</td>\n",
       "      <td>0.115375</td>\n",
       "      <td>0.229930</td>\n",
       "      <td>0.437660</td>\n",
       "      <td>0.496987</td>\n",
       "      <td>0.570268</td>\n",
       "      <td>1.520877</td>\n",
       "    </tr>\n",
       "    <tr>\n",
       "      <th>selAttLoc</th>\n",
       "      <th>congruent</th>\n",
       "      <td>9234.0</td>\n",
       "      <td>0.516471</td>\n",
       "      <td>0.115800</td>\n",
       "      <td>0.199753</td>\n",
       "      <td>0.435849</td>\n",
       "      <td>0.500862</td>\n",
       "      <td>0.574013</td>\n",
       "      <td>1.470798</td>\n",
       "    </tr>\n",
       "  </tbody>\n",
       "</table>\n",
       "</div>"
      ],
      "text/plain": [
       "                                   count      mean       std       min  \\\n",
       "condition cond       congruence                                          \n",
       "Cc        selAttGlob congruent    9009.0  0.542534  0.127964  0.207480   \n",
       "          selAttLoc  congruent    9089.0  0.556194  0.135140  0.189890   \n",
       "Cv        selAttGlob incongruent  8721.0  0.559838  0.142280  0.102924   \n",
       "          selAttLoc  incongruent  8708.0  0.539550  0.123220  0.068658   \n",
       "Vc        selAttGlob incongruent  8958.0  0.523678  0.125208  0.069782   \n",
       "          selAttLoc  incongruent  8651.0  0.584175  0.142684  0.015780   \n",
       "Vv        selAttGlob congruent    9092.0  0.513652  0.115375  0.229930   \n",
       "          selAttLoc  congruent    9234.0  0.516471  0.115800  0.199753   \n",
       "\n",
       "                                       25%       50%       75%       max  \n",
       "condition cond       congruence                                           \n",
       "Cc        selAttGlob congruent    0.461660  0.523406  0.598791  1.582623  \n",
       "          selAttLoc  congruent    0.466694  0.536255  0.615781  1.714776  \n",
       "Cv        selAttGlob incongruent  0.469102  0.538965  0.618073  1.845350  \n",
       "          selAttLoc  incongruent  0.453851  0.524752  0.606011  1.735075  \n",
       "Vc        selAttGlob incongruent  0.439635  0.509356  0.581043  1.911829  \n",
       "          selAttLoc  incongruent  0.491742  0.563984  0.648891  1.976961  \n",
       "Vv        selAttGlob congruent    0.437660  0.496987  0.570268  1.520877  \n",
       "          selAttLoc  congruent    0.435849  0.500862  0.574013  1.470798  "
      ]
     },
     "execution_count": 52,
     "metadata": {},
     "output_type": "execute_result"
    }
   ],
   "source": [
    "# summary statistics of RT per condition\n",
    "dfrt.groupby(['condition','cond','congruence']).rt.describe()"
   ]
  },
  {
   "cell_type": "markdown",
   "metadata": {},
   "source": [
    "# Seaborn for visualization\n",
    "\n",
    "- Attractive and informative statistical graphics in Python.\n",
    "- With minimal effort or tweaking (often work on the full dataset instead of summary)\n",
    "- Invites quick exploration (supports violins, swarms, boxes, lines, bars, strips, heatmaps, faceting...)\n",
    "- Tuned to the needs of psychologists (made by a cognitive neuroscientist)\n",
    "- A [gallery](https://seaborn.pydata.org/examples/index.html) of what's possible."
   ]
  },
  {
   "cell_type": "code",
   "execution_count": 36,
   "metadata": {},
   "outputs": [
    {
     "data": {
      "image/png": "[encoded data removed]",
      "text/plain": [
       "<Figure size 701.675x288 with 2 Axes>"
      ]
     },
     "metadata": {},
     "output_type": "display_data"
    }
   ],
   "source": [
    "g = sns.factorplot(x=\"condition\", y=\"rt\", hue=\"congruence\",\n",
    "               col=\"cond\", unit='participant', data=dfrt, kind=\"point\"); \n",
    "\n",
    "g.set(xlabel=\"Condition\", yticklabels=[y for y in  np.linspace(0,.6,6)]);"
   ]
  },
  {
   "cell_type": "markdown",
   "metadata": {},
   "source": [
    "### Some features of Seaborn plots:\n",
    "\n",
    "- [Factorplot](https://seaborn.pydata.org/generated/seaborn.factorplot.html#seaborn.factorplot) is a categorical, faceted plot: \"It is important to choose how variables get mapped to the plot structure such that the most important comparisons are easiest to make. As a general rule, it is easier to compare positions that are closer together, so the hue variable should be used for the most important comparisons\".\n",
    "- Note the unit parameter: Identifier of sampling units, which will be used to perform a multilevel bootstrap for the confidence intervals (errorbars) and account for repeated measures design.\n",
    "- Hence, you can input the full dataset\n",
    "- The default errorbar is 95% ci, but you could set it to another size, or to *sd* or to *none*\n",
    "- The default estimator plotted is the mean, but this can also changed to any summary function.\n",
    "- The *kind* parameter can be set to {point, bar, count, box, violin, strip}. But you can also call the base function, e.g. boxplot() (see example below)\n",
    "- Seeing that seaborn is built on top of matplotlib, you can always further customize plots using matplotlib methods (see example below).\n"
   ]
  },
  {
   "cell_type": "code",
   "execution_count": 49,
   "metadata": {},
   "outputs": [],
   "source": [
    "# we could define a function for saving plots for use outside of notebook (e.g. in paper)\n",
    "def save_fig(fig, figname):\n",
    "    if not os.path.exists('figs'):\n",
    "        os.makedirs('figs')\n",
    "    fig.savefig(\"figs/%s.pdf\" % figname, dpi=300) #high dpi for printing\n",
    "    fig.savefig(\"figs/%s.png\" % figname, dpi=300)\n",
    "    fig.savefig(\"figs/%s.svg\" % figname, dpi=300)"
   ]
  },
  {
   "cell_type": "code",
   "execution_count": 59,
   "metadata": {},
   "outputs": [
    {
     "data": {
      "image/png": "[encoded data removed]",
      "text/plain": [
       "<Figure size 432x288 with 1 Axes>"
      ]
     },
     "metadata": {},
     "output_type": "display_data"
    }
   ],
   "source": [
    "dfsum = dfrt.groupby(['participant', 'congruence', 'cond']).rt.mean().reset_index()\n",
    "g = sns.boxplot(x=\"cond\", y=\"rt\", hue=\"congruence\", data=dfsum);\n",
    "g.legend(loc=\"upper left\");\n",
    "save_fig(g.get_figure(),'box')"
   ]
  },
  {
   "cell_type": "markdown",
   "metadata": {},
   "source": [
    "add raincloud plots: https://wellcomeopenresearch.org/articles/4-63/v1  https://github.com/RainCloudPlots/RainCloudPlots/blob/master/tutorial_python/raincloud_tutorial_python.ipynb\n",
    "Add dabest: https://github.com/ACCLAB/DABEST-python\n",
    "            "
   ]
  },
  {
   "cell_type": "markdown",
   "metadata": {},
   "source": [
    "# Compute difference scores (interference) and plot distributions"
   ]
  },
  {
   "cell_type": "code",
   "execution_count": 20,
   "metadata": {},
   "outputs": [
    {
     "data": {
      "text/html": [
       "<div>\n",
       "<style scoped>\n",
       "    .dataframe tbody tr th:only-of-type {\n",
       "        vertical-align: middle;\n",
       "    }\n",
       "\n",
       "    .dataframe tbody tr th {\n",
       "        vertical-align: top;\n",
       "    }\n",
       "\n",
       "    .dataframe thead th {\n",
       "        text-align: right;\n",
       "    }\n",
       "</style>\n",
       "<table border=\"1\" class=\"dataframe\">\n",
       "  <thead>\n",
       "    <tr style=\"text-align: right;\">\n",
       "      <th></th>\n",
       "      <th>participant</th>\n",
       "      <th>cond</th>\n",
       "      <th>interference</th>\n",
       "    </tr>\n",
       "  </thead>\n",
       "  <tbody>\n",
       "    <tr>\n",
       "      <th>0</th>\n",
       "      <td>7576</td>\n",
       "      <td>selAttGlob</td>\n",
       "      <td>0.008086</td>\n",
       "    </tr>\n",
       "    <tr>\n",
       "      <th>1</th>\n",
       "      <td>7576</td>\n",
       "      <td>selAttLoc</td>\n",
       "      <td>0.014542</td>\n",
       "    </tr>\n",
       "    <tr>\n",
       "      <th>2</th>\n",
       "      <td>10711</td>\n",
       "      <td>selAttGlob</td>\n",
       "      <td>0.013350</td>\n",
       "    </tr>\n",
       "    <tr>\n",
       "      <th>3</th>\n",
       "      <td>10711</td>\n",
       "      <td>selAttLoc</td>\n",
       "      <td>0.024520</td>\n",
       "    </tr>\n",
       "    <tr>\n",
       "      <th>4</th>\n",
       "      <td>10771</td>\n",
       "      <td>selAttGlob</td>\n",
       "      <td>0.066292</td>\n",
       "    </tr>\n",
       "  </tbody>\n",
       "</table>\n",
       "</div>"
      ],
      "text/plain": [
       "   participant        cond  interference\n",
       "0         7576  selAttGlob      0.008086\n",
       "1         7576   selAttLoc      0.014542\n",
       "2        10711  selAttGlob      0.013350\n",
       "3        10711   selAttLoc      0.024520\n",
       "4        10771  selAttGlob      0.066292"
      ]
     },
     "execution_count": 20,
     "metadata": {},
     "output_type": "execute_result"
    }
   ],
   "source": [
    "def interference(group):\n",
    "    return group[group.congruence=='incongruent'].rt.mean()-group[group.congruence=='congruent'].rt.mean()\n",
    "\n",
    "dfIF = dfrt.groupby(['participant','cond']).apply(interference).reset_index()\n",
    "dfIF = dfIF.rename(columns={0: 'interference'})\n",
    "\n",
    "dfIF.head()"
   ]
  },
  {
   "cell_type": "code",
   "execution_count": 75,
   "metadata": {},
   "outputs": [
    {
     "data": {
      "image/png": "[encoded data removed]",
      "text/plain": [
       "<Figure size 432x288 with 1 Axes>"
      ]
     },
     "metadata": {},
     "output_type": "display_data"
    }
   ],
   "source": [
    "sns.swarmplot(x=\"cond\", y=\"interference\", data=dfIF);"
   ]
  },
  {
   "cell_type": "code",
   "execution_count": 152,
   "metadata": {},
   "outputs": [
    {
     "data": {
      "image/png": "[encoded data removed]",
      "text/plain": [
       "<Figure size 432x288 with 1 Axes>"
      ]
     },
     "metadata": {},
     "output_type": "display_data"
    }
   ],
   "source": [
    "sns.set_context(\"poster\", font_scale=1.3)\n",
    "sns.set_palette('deep') # options: deep, muted, bright, pastel, dark, colorblind\n",
    "\n",
    "fig, ax = plt.subplots(figsize=(10, 6))\n",
    "conditions = ['selAttGlob', 'selAttLoc']\n",
    "\n",
    "for i, condition in enumerate(conditions):\n",
    "    condition_data = dfIF[(dfIF['cond'] == condition)]['interference']\n",
    "    sns.distplot(condition_data, label=condition);\n",
    "    ax.axvline(x=dfIF[(dfIF['cond'] == condition)]['interference'].mean(), linestyle='--', color= sns.color_palette()[i])\n",
    "\n",
    "# embellish plot\n",
    "sns.despine()\n",
    "\n",
    "ax.set_title('Navon interference on reaction times')\n",
    "ax.set_xlabel(\"Interference\")\n",
    "\n",
    "# Improve the legend \n",
    "handles, labels = ax.get_legend_handles_labels()\n",
    "ax.legend(handles, ['local interference', 'global interference'], loc=\"best\");\n",
    "save_fig(fig, \"interference\")"
   ]
  },
  {
   "cell_type": "markdown",
   "metadata": {},
   "source": [
    "For more customization options, see the [seaborn tutorials](https://seaborn.pydata.org/tutorial.html). More flexibility is provided by the matplotlib core: [a cheat sheet](https://nbviewer.jupyter.org/urls/gist.githubusercontent.com/Jwink3101/e6b57eba3beca4b05ec146d9e38fc839/raw/f486ca3dcad44c33fc4e7ddedc1f83b82c02b492/Matplotlib_Cheatsheet)."
   ]
  },
  {
   "cell_type": "markdown",
   "metadata": {},
   "source": [
    "### Let's do a quick t-test..."
   ]
  },
  {
   "cell_type": "code",
   "execution_count": 28,
   "metadata": {},
   "outputs": [
    {
     "name": "stdout",
     "output_type": "stream",
     "text": [
      "t-test for global interference different from zero:\n",
      "t =  14.92 p =  0.0\n",
      "t-test for local interference different from zero:\n",
      "t =  8.38 p =  0.0\n"
     ]
    }
   ],
   "source": [
    "from statsmodels.stats.weightstats import ztest\n",
    "\n",
    "out = ztest(dfIF[dfIF.cond=='selAttLoc']['interference'], value=0)\n",
    "print \"t-test for global interference different from zero:\\nt = \", round(out[0],2), \"p = \", round(out[1],4)\n",
    "out = ztest(dfIF[dfIF.cond=='selAttGlob']['interference'], value=0)\n",
    "print \"t-test for local interference different from zero:\\nt = \", round(out[0],2), \"p = \", round(out[1],4)"
   ]
  },
  {
   "cell_type": "markdown",
   "metadata": {},
   "source": [
    "Luckily these conclusions are consistent with those reported in the paper..."
   ]
  },
  {
   "cell_type": "markdown",
   "metadata": {},
   "source": [
    "### Or a mixed model..."
   ]
  },
  {
   "cell_type": "code",
   "execution_count": 29,
   "metadata": {},
   "outputs": [
    {
     "name": "stdout",
     "output_type": "stream",
     "text": [
      "                         Mixed Linear Model Regression Results\n",
      "======================================================================================\n",
      "Model:                      MixedLM           Dependent Variable:           rt        \n",
      "No. Observations:           71620             Method:                       REML      \n",
      "No. Groups:                 258               Scale:                        0.0136    \n",
      "Min. group size:            158               Likelihood:                   51605.4400\n",
      "Max. group size:            386               Converged:                    Yes       \n",
      "Mean group size:            277.6                                                     \n",
      "--------------------------------------------------------------------------------------\n",
      "                                            Coef. Std.Err.    z    P>|z| [0.025 0.975]\n",
      "--------------------------------------------------------------------------------------\n",
      "Intercept                                   0.529    0.004 142.079 0.000  0.522  0.537\n",
      "congruence[T.incongruent]                   0.013    0.001  10.854 0.000  0.011  0.016\n",
      "cond[T.selAttLoc]                           0.009    0.001   7.125 0.000  0.006  0.011\n",
      "congruence[T.incongruent]:cond[T.selAttLoc] 0.011    0.002   6.556 0.000  0.008  0.015\n",
      "groups RE                                   0.003    0.003                            \n",
      "======================================================================================\n",
      "\n"
     ]
    }
   ],
   "source": [
    "md = smf.mixedlm(\"rt ~ congruence * cond\", dfrt, groups=data[\"participant\"])\n",
    "mdf = md.fit()\n",
    "print(mdf.summary())"
   ]
  },
  {
   "cell_type": "markdown",
   "metadata": {},
   "source": [
    "# Accuracy analysis"
   ]
  },
  {
   "cell_type": "code",
   "execution_count": 46,
   "metadata": {},
   "outputs": [
    {
     "data": {
      "image/png": "[encoded data removed]",
      "text/plain": [
       "<Figure size 690.925x288 with 2 Axes>"
      ]
     },
     "metadata": {},
     "output_type": "display_data"
    }
   ],
   "source": [
    "sns.factorplot(x=\"condition\", y=\"acc\", hue=\"congruence\",\n",
    "               col=\"cond\", unit=\"participant\", data=df, kind=\"point\");"
   ]
  },
  {
   "cell_type": "markdown",
   "metadata": {},
   "source": [
    "Incidentally, it is possible to use latex in your markdown, for example, drop that Bayes!\n",
    "\n",
    "\\\\( P(A \\mid B) = \\frac{P(B \\mid A) \\, P(A)}{P(B)} \\\\)\n",
    "\n",
    "Just kidding, I'm not going to show you how to do a Bayesian analysis on these data...\n",
    "\n",
    "### I would like to do a logistic mixed model on the accuracy data, but unfortunately statsmodels does not yet support those.\n",
    "\n",
    "Statsmodel has an alternative method to deal with clustered data: Generalized Estimating Equations (GEE). GEEs have a few attractive advantages over hierarchical linear models (“mixed models”), for example fewer assumptions about the random effects and more intuitive interpretation of coefficients. Especially for discrete dependent variables (i.e., our binary accuracy data) the likelihood-based mixed models can show difficult convergence and a lack of robustness to misspecification of the covariance structure. See also: McNeish, D., Stapleton, L. M., & Silverman, R. D. (2016). [On the Unnecessary Ubiquity of Hierarchical Linear Modeling. Psychological Methods](https://drive.google.com/open?id=0BwlD7q-DXkdWWXRWRG5YZUZ1elU)."
   ]
  },
  {
   "cell_type": "code",
   "execution_count": 12,
   "metadata": {},
   "outputs": [
    {
     "name": "stdout",
     "output_type": "stream",
     "text": [
      "                               GEE Regression Results                              \n",
      "===================================================================================\n",
      "Dep. Variable:                         acc   No. Observations:                82200\n",
      "Model:                                 GEE   No. clusters:                      266\n",
      "Method:                        Generalized   Min. cluster size:                 200\n",
      "                      Estimating Equations   Max. cluster size:                 400\n",
      "Family:                           Binomial   Mean cluster size:               309.0\n",
      "Dependence structure:         Exchangeable   Num. iterations:                     8\n",
      "Date:                     Fri, 25 May 2018   Scale:                           1.000\n",
      "Covariance type:                    robust   Time:                         16:22:30\n",
      "===============================================================================================================\n",
      "                                                  coef    std err          z      P>|z|      [0.025      0.975]\n",
      "---------------------------------------------------------------------------------------------------------------\n",
      "Intercept                                       2.5646      0.049     51.960      0.000       2.468       2.661\n",
      "cond[T.selAttLoc]                               0.2534      0.057      4.446      0.000       0.142       0.365\n",
      "congruence[T.incongruent]                      -0.2408      0.048     -4.998      0.000      -0.335      -0.146\n",
      "cond[T.selAttLoc]:congruence[T.incongruent]    -0.3669      0.072     -5.126      0.000      -0.507      -0.227\n",
      "==============================================================================\n",
      "Skew:                         -3.0706   Kurtosis:                       7.4768\n",
      "Centered skew:                -2.9520   Centered kurtosis:              7.1066\n",
      "==============================================================================\n",
      "The correlation between two observations in the same cluster is 0.023\n"
     ]
    }
   ],
   "source": [
    "# model formulation\n",
    "fml = \"acc ~ cond * congruence\"\n",
    "\n",
    "# covariance structure\n",
    "ex = sm.cov_struct.Exchangeable()\n",
    "#link fu\n",
    "fa = sm.families.Binomial(sm.families.links.logit)\n",
    "\n",
    "model = sm.GEE.from_formula(fml, \"participant\", df, cov_struct=ex, family=fa)\n",
    "result = model.fit()\n",
    "print(result.summary())\n",
    "print(result.cov_struct.summary())"
   ]
  },
  {
   "cell_type": "markdown",
   "metadata": {},
   "source": [
    "### But reviewer #2 demands a conventional GLMM...so let's use R"
   ]
  },
  {
   "cell_type": "markdown",
   "metadata": {},
   "source": [
    "# Interfacing between R and python\n",
    "\n",
    "### Option 1: R interface to python \n",
    "- Using library([reticulate](http://blog.rstudio.com/2018/03/26/reticulate-r-interface-to-python))\n",
    "- Add python code chunks in your Rmarkdown (but no autocomplete so best used sparingly)\n",
    "- Read in python source files and call its functions\n",
    "- Automatic variable conversion: e.g. R dataframe becomes pandas dataframe (and vice versa)\n",
    "- Import python modules from within R and call its functions in the usual R way ($)\n",
    "\n",
    "### Option 2: Open the R kernel in jupyterlab\n",
    "- Same environment but separate analyses\n",
    "- Actual R notebook (jupyte**R**!)\n",
    "- No real integration: you still rely on writing/reading files\n",
    "\n",
    "### Option 3: Python interface to R\n",
    "- Using [rpy2](https://rpy2.readthedocs.io/en/version_2.8.x/) library (*conda install rpy2* into the Anaconda terminal)\n",
    "- Make a full cell (or a line) of R (by \"magic\")\n",
    "- Automatic variable conversion: Pandas dataframe becomes R dataframe (and vice versa)\n",
    "- Load R libraries"
   ]
  },
  {
   "cell_type": "code",
   "execution_count": 28,
   "metadata": {},
   "outputs": [],
   "source": [
    "import rpy2.rinterface\n",
    "\n",
    "%reload_ext rpy2.ipython\n",
    "%R -n require(lme4); \n",
    "%R -n require(tidyr); require(ggplot2)"
   ]
  },
  {
   "cell_type": "markdown",
   "metadata": {},
   "source": [
    "A killer feature of Jupyter notebooks are **magic commands**. \n",
    "\n",
    "- These commands, prefaced with a '%', add some extra power over top of the typical Python syntax to solve common problems that may arise. [More about magic commands](http://ipython.readthedocs.io/en/stable/interactive/magics.html). We focus on R here but Magic commands are for example also available for javascript plotting in Jupyter.\n",
    "- *%load_ext* magic command loads the rpy2 jupyter extension into the notebook, essentially initializing the R interface and allowing the notebook to connect and pass objects between the two languages. This magic command needs only to be run once. \n",
    "- Double \"%\" signs affect the whole cell (jupyter code block), for example making it an R code block. "
   ]
  },
  {
   "cell_type": "code",
   "execution_count": 17,
   "metadata": {},
   "outputs": [
    {
     "data": {
      "image/png": "[encoded data removed]"
     },
     "metadata": {},
     "output_type": "display_data"
    }
   ],
   "source": [
    "%%R\n",
    "# ^ Tells the notebook that this code cell is actually R\n",
    "\n",
    "# Now we can write R code as if this were an R notebook\n",
    "X_vals <- c(1, 2, 3, 4, 5)\n",
    "y_vals <- c(1, 2, 4, 8, 16)\n",
    "\n",
    "plot(X_vals, y_vals,\n",
    "     col='purple', pch=12,\n",
    "     main='R plot in Python')"
   ]
  },
  {
   "cell_type": "markdown",
   "metadata": {},
   "source": [
    "# Passing variables back and forth\n",
    "\n",
    "- A variable listed after -i on the %%R line will be inputted and converted to an R object from Python. \n",
    "- A variable listed after -o on the %%R line will be outputted and converted from an R object to a Python object."
   ]
  },
  {
   "cell_type": "code",
   "execution_count": 2,
   "metadata": {},
   "outputs": [
    {
     "ename": "NameError",
     "evalue": "name 'np' is not defined",
     "output_type": "error",
     "traceback": [
      "\u001b[0;31m---------------------------------------------------------------------------\u001b[0m",
      "\u001b[0;31mNameError\u001b[0m                                 Traceback (most recent call last)",
      "\u001b[0;32m<ipython-input-2-a33b25f73a6a>\u001b[0m in \u001b[0;36m<module>\u001b[0;34m\u001b[0m\n\u001b[0;32m----> 1\u001b[0;31m \u001b[0mnp\u001b[0m\u001b[0;34m.\u001b[0m\u001b[0mrandom\u001b[0m\u001b[0;34m.\u001b[0m\u001b[0mseed\u001b[0m\u001b[0;34m(\u001b[0m\u001b[0;36m42\u001b[0m\u001b[0;34m)\u001b[0m\u001b[0;34m\u001b[0m\u001b[0;34m\u001b[0m\u001b[0m\n\u001b[0m\u001b[1;32m      2\u001b[0m \u001b[0;31m# Make a pandas DataFrame\u001b[0m\u001b[0;34m\u001b[0m\u001b[0;34m\u001b[0m\u001b[0;34m\u001b[0m\u001b[0m\n\u001b[1;32m      3\u001b[0m \u001b[0mtestdf\u001b[0m \u001b[0;34m=\u001b[0m \u001b[0mpd\u001b[0m\u001b[0;34m.\u001b[0m\u001b[0mDataFrame\u001b[0m\u001b[0;34m(\u001b[0m\u001b[0mnp\u001b[0m\u001b[0;34m.\u001b[0m\u001b[0mrandom\u001b[0m\u001b[0;34m.\u001b[0m\u001b[0mnormal\u001b[0m\u001b[0;34m(\u001b[0m\u001b[0;36m0\u001b[0m\u001b[0;34m,\u001b[0m\u001b[0;36m1\u001b[0m\u001b[0;34m,\u001b[0m\u001b[0msize\u001b[0m\u001b[0;34m=\u001b[0m\u001b[0;34m(\u001b[0m\u001b[0;36m100\u001b[0m\u001b[0;34m,\u001b[0m \u001b[0;36m3\u001b[0m\u001b[0;34m)\u001b[0m\u001b[0;34m)\u001b[0m\u001b[0;34m,\u001b[0m \u001b[0mcolumns\u001b[0m\u001b[0;34m=\u001b[0m\u001b[0mlist\u001b[0m\u001b[0;34m(\u001b[0m\u001b[0;34m'ABC'\u001b[0m\u001b[0;34m)\u001b[0m\u001b[0;34m)\u001b[0m\u001b[0;34m\u001b[0m\u001b[0;34m\u001b[0m\u001b[0m\n\u001b[1;32m      4\u001b[0m \u001b[0mtestdf\u001b[0m\u001b[0;34m[\u001b[0m\u001b[0;34m'C'\u001b[0m\u001b[0;34m]\u001b[0m \u001b[0;34m=\u001b[0m \u001b[0mtestdf\u001b[0m\u001b[0;34m[\u001b[0m\u001b[0;34m'C'\u001b[0m\u001b[0;34m]\u001b[0m \u001b[0;34m+\u001b[0m \u001b[0;36m2\u001b[0m\u001b[0;34m\u001b[0m\u001b[0;34m\u001b[0m\u001b[0m\n\u001b[1;32m      5\u001b[0m \u001b[0mtestdf\u001b[0m\u001b[0;34m.\u001b[0m\u001b[0mhead\u001b[0m\u001b[0;34m(\u001b[0m\u001b[0;34m)\u001b[0m\u001b[0;34m\u001b[0m\u001b[0;34m\u001b[0m\u001b[0m\n",
      "\u001b[0;31mNameError\u001b[0m: name 'np' is not defined"
     ]
    }
   ],
   "source": [
    "np.random.seed(42)\n",
    "# Make a pandas DataFrame\n",
    "testdf = pd.DataFrame(np.random.normal(0,1,size=(100, 3)), columns=list('ABC'))\n",
    "testdf['C'] = testdf['C'] + 2\n",
    "testdf.head()\n"
   ]
  },
  {
   "cell_type": "code",
   "execution_count": null,
   "metadata": {},
   "outputs": [],
   "source": []
  },
  {
   "cell_type": "code",
   "execution_count": 19,
   "metadata": {},
   "outputs": [
    {
     "data": {
      "image/png": "[encoded data removed]"
     },
     "metadata": {},
     "output_type": "display_data"
    }
   ],
   "source": [
    "%%R -i testdf\n",
    "testdf %>% \n",
    "  gather(\"Category\", \"X\") %>%\n",
    "  ggplot(aes(x = Category, y = X, fill = Category)) +\n",
    "    geom_violin() +\n",
    "    stat_summary(fun.y=mean, color='black', geom='point', size = 3) +\n",
    "    theme_bw()"
   ]
  },
  {
   "cell_type": "markdown",
   "metadata": {},
   "source": [
    "### But why not stay in python ;-)"
   ]
  },
  {
   "cell_type": "code",
   "execution_count": 25,
   "metadata": {},
   "outputs": [
    {
     "name": "stdout",
     "output_type": "stream",
     "text": [
      "  category         X\n",
      "0        A  0.496714\n",
      "1        A  1.523030\n",
      "2        A  1.579213\n",
      "3        A  0.542560\n",
      "4        A  0.241962\n"
     ]
    },
    {
     "data": {
      "image/png": "[encoded data removed]",
      "text/plain": [
       "<matplotlib.figure.Figure at 0x7f0aa9eb7990>"
      ]
     },
     "metadata": {},
     "output_type": "display_data"
    }
   ],
   "source": [
    "dfmelted = pd.melt(testdf, value_vars=[\"A\",\"B\",\"C\"], var_name=\"category\", value_name=\"X\")\n",
    "print dfmelted.head()\n",
    "dfmelted[\"xbin\"] = dfmelted.X > .5\n",
    "\n",
    "sns.violinplot(x=\"category\", y=\"X\", data=dfmelted, inner=\"quart\");"
   ]
  },
  {
   "cell_type": "markdown",
   "metadata": {},
   "source": [
    "Note that we used the pandas melt function to go from a dataset in the wide form (testdf above) to long form (done in R with the melt or gather function). There are many more **reshaping and pivoting** functions in pandas, which we won't cover. The best way to get a feel for the pandas reshape and pivot functions is to go through [this brief visual guide](https://jalammar.github.io/visualizing-pandas-pivoting-and-reshaping/). Further details can be found in the [pandas documentation](https://pandas.pydata.org/pandas-docs/stable/reshaping.html)."
   ]
  },
  {
   "cell_type": "markdown",
   "metadata": {},
   "source": [
    "### Still prefer the ggplot syntax?"
   ]
  },
  {
   "cell_type": "code",
   "execution_count": 60,
   "metadata": {},
   "outputs": [
    {
     "data": {
      "image/png": "[encoded data removed]",
      "text/plain": [
       "<Figure size 600x400 with 1 Axes>"
      ]
     },
     "metadata": {},
     "output_type": "display_data"
    },
    {
     "data": {
      "text/plain": [
       "<ggplot: (8743702045645)>"
      ]
     },
     "execution_count": 60,
     "metadata": {},
     "output_type": "execute_result"
    }
   ],
   "source": [
    "from plotnine import *\n",
    "\n",
    "(ggplot(dfmelted, aes(x = 'category', y = 'X', fill = 'category'))\n",
    "    + geom_violin() \n",
    "    + stat_summary(fun_y=np.mean, color='black', geom='point', size = 3)\n",
    "    + theme_bw())"
   ]
  },
  {
   "cell_type": "markdown",
   "metadata": {},
   "source": [
    "### But we wanted a GLMM on our accuracy data..."
   ]
  },
  {
   "cell_type": "code",
   "execution_count": 22,
   "metadata": {},
   "outputs": [
    {
     "data": {
      "text/html": [
       "<div>\n",
       "<style scoped>\n",
       "    .dataframe tbody tr th:only-of-type {\n",
       "        vertical-align: middle;\n",
       "    }\n",
       "\n",
       "    .dataframe tbody tr th {\n",
       "        vertical-align: top;\n",
       "    }\n",
       "\n",
       "    .dataframe thead th {\n",
       "        text-align: right;\n",
       "    }\n",
       "</style>\n",
       "<table border=\"1\" class=\"dataframe\">\n",
       "  <thead>\n",
       "    <tr style=\"text-align: right;\">\n",
       "      <th></th>\n",
       "      <th>acc_mean</th>\n",
       "      <th>acc</th>\n",
       "      <th>acc_std</th>\n",
       "      <th>cond</th>\n",
       "      <th>condition</th>\n",
       "      <th>congruence</th>\n",
       "      <th>corrAns</th>\n",
       "      <th>expversion</th>\n",
       "      <th>gender_x</th>\n",
       "      <th>location</th>\n",
       "      <th>...</th>\n",
       "      <th>resp_raw</th>\n",
       "      <th>rt_mean</th>\n",
       "      <th>rt</th>\n",
       "      <th>rt_std</th>\n",
       "      <th>stimFile</th>\n",
       "      <th>xPos</th>\n",
       "      <th>yPos</th>\n",
       "      <th>Subject</th>\n",
       "      <th>age</th>\n",
       "      <th>gender_y</th>\n",
       "    </tr>\n",
       "  </thead>\n",
       "  <tbody>\n",
       "    <tr>\n",
       "      <th>0</th>\n",
       "      <td>1</td>\n",
       "      <td>1</td>\n",
       "      <td>0</td>\n",
       "      <td>selAttGlob</td>\n",
       "      <td>Cc</td>\n",
       "      <td>congruent</td>\n",
       "      <td>['f']</td>\n",
       "      <td>NaN</td>\n",
       "      <td>F</td>\n",
       "      <td>left_right</td>\n",
       "      <td>...</td>\n",
       "      <td>'f'</td>\n",
       "      <td>0,746331811</td>\n",
       "      <td>0.746332</td>\n",
       "      <td>0</td>\n",
       "      <td>Global_C_local_C.png</td>\n",
       "      <td>NaN</td>\n",
       "      <td>-50</td>\n",
       "      <td>12277</td>\n",
       "      <td>18.0</td>\n",
       "      <td>1.0</td>\n",
       "    </tr>\n",
       "    <tr>\n",
       "      <th>1</th>\n",
       "      <td>1</td>\n",
       "      <td>1</td>\n",
       "      <td>0</td>\n",
       "      <td>selAttGlob</td>\n",
       "      <td>Cc</td>\n",
       "      <td>congruent</td>\n",
       "      <td>['f']</td>\n",
       "      <td>NaN</td>\n",
       "      <td>F</td>\n",
       "      <td>up_right</td>\n",
       "      <td>...</td>\n",
       "      <td>'f'</td>\n",
       "      <td>0,687273145</td>\n",
       "      <td>0.687273</td>\n",
       "      <td>0</td>\n",
       "      <td>Global_C_local_D.png</td>\n",
       "      <td>NaN</td>\n",
       "      <td>50</td>\n",
       "      <td>12277</td>\n",
       "      <td>18.0</td>\n",
       "      <td>1.0</td>\n",
       "    </tr>\n",
       "    <tr>\n",
       "      <th>2</th>\n",
       "      <td>1</td>\n",
       "      <td>1</td>\n",
       "      <td>0</td>\n",
       "      <td>selAttGlob</td>\n",
       "      <td>Cc</td>\n",
       "      <td>congruent</td>\n",
       "      <td>['f']</td>\n",
       "      <td>NaN</td>\n",
       "      <td>F</td>\n",
       "      <td>down_right</td>\n",
       "      <td>...</td>\n",
       "      <td>'f'</td>\n",
       "      <td>0,705967069</td>\n",
       "      <td>0.705967</td>\n",
       "      <td>0</td>\n",
       "      <td>Global_C_local_F.png</td>\n",
       "      <td>NaN</td>\n",
       "      <td>-50</td>\n",
       "      <td>12277</td>\n",
       "      <td>18.0</td>\n",
       "      <td>1.0</td>\n",
       "    </tr>\n",
       "    <tr>\n",
       "      <th>3</th>\n",
       "      <td>1</td>\n",
       "      <td>1</td>\n",
       "      <td>0</td>\n",
       "      <td>selAttGlob</td>\n",
       "      <td>Cc</td>\n",
       "      <td>congruent</td>\n",
       "      <td>['f']</td>\n",
       "      <td>NaN</td>\n",
       "      <td>F</td>\n",
       "      <td>left_right</td>\n",
       "      <td>...</td>\n",
       "      <td>'f'</td>\n",
       "      <td>0,661773503</td>\n",
       "      <td>0.661774</td>\n",
       "      <td>0</td>\n",
       "      <td>Global_C_local_H.png</td>\n",
       "      <td>NaN</td>\n",
       "      <td>-50</td>\n",
       "      <td>12277</td>\n",
       "      <td>18.0</td>\n",
       "      <td>1.0</td>\n",
       "    </tr>\n",
       "    <tr>\n",
       "      <th>4</th>\n",
       "      <td>1</td>\n",
       "      <td>1</td>\n",
       "      <td>0</td>\n",
       "      <td>selAttGlob</td>\n",
       "      <td>Cc</td>\n",
       "      <td>congruent</td>\n",
       "      <td>['f']</td>\n",
       "      <td>NaN</td>\n",
       "      <td>F</td>\n",
       "      <td>down_right</td>\n",
       "      <td>...</td>\n",
       "      <td>'f'</td>\n",
       "      <td>0,794407368</td>\n",
       "      <td>0.794407</td>\n",
       "      <td>0</td>\n",
       "      <td>Global_C_local_T.png</td>\n",
       "      <td>NaN</td>\n",
       "      <td>-50</td>\n",
       "      <td>12277</td>\n",
       "      <td>18.0</td>\n",
       "      <td>1.0</td>\n",
       "    </tr>\n",
       "  </tbody>\n",
       "</table>\n",
       "<p>5 rows × 23 columns</p>\n",
       "</div>"
      ],
      "text/plain": [
       "   acc_mean  acc  acc_std        cond condition congruence corrAns expversion  \\\n",
       "0         1    1        0  selAttGlob        Cc  congruent   ['f']        NaN   \n",
       "1         1    1        0  selAttGlob        Cc  congruent   ['f']        NaN   \n",
       "2         1    1        0  selAttGlob        Cc  congruent   ['f']        NaN   \n",
       "3         1    1        0  selAttGlob        Cc  congruent   ['f']        NaN   \n",
       "4         1    1        0  selAttGlob        Cc  congruent   ['f']        NaN   \n",
       "\n",
       "  gender_x    location    ...     resp_raw      rt_mean        rt rt_std  \\\n",
       "0        F  left_right    ...          'f'  0,746331811  0.746332      0   \n",
       "1        F    up_right    ...          'f'  0,687273145  0.687273      0   \n",
       "2        F  down_right    ...          'f'  0,705967069  0.705967      0   \n",
       "3        F  left_right    ...          'f'  0,661773503  0.661774      0   \n",
       "4        F  down_right    ...          'f'  0,794407368  0.794407      0   \n",
       "\n",
       "               stimFile  xPos  yPos Subject   age  gender_y  \n",
       "0  Global_C_local_C.png   NaN   -50   12277  18.0       1.0  \n",
       "1  Global_C_local_D.png   NaN    50   12277  18.0       1.0  \n",
       "2  Global_C_local_F.png   NaN   -50   12277  18.0       1.0  \n",
       "3  Global_C_local_H.png   NaN   -50   12277  18.0       1.0  \n",
       "4  Global_C_local_T.png   NaN   -50   12277  18.0       1.0  \n",
       "\n",
       "[5 rows x 23 columns]"
      ]
     },
     "execution_count": 22,
     "metadata": {},
     "output_type": "execute_result"
    }
   ],
   "source": [
    "dfreduc=df.iloc[:5000]\n",
    "dfreduc.head()\n"
   ]
  },
  {
   "cell_type": "code",
   "execution_count": 21,
   "metadata": {},
   "outputs": [],
   "source": [
    "%%R\n",
    "lr.test = function(m1, m2, name){\n",
    "    print(summary(m1))\n",
    "    print(summary(m2))\n",
    "    out = anova(m1, m2)\n",
    "    chi2 = out$Chisq[2]\n",
    "    dof = out$\"Chi Df\"[2]\n",
    "    p = out$\"Pr(>Chisq)\"[2]\n",
    "    test_str = \"Likelihood ratio test for %s:\\n  Chisq(%d) = %.2f; p = %.3g\"\n",
    "    writeLines(sprintf(test_str, name, dof, chi2, p))\n",
    "}"
   ]
  },
  {
   "cell_type": "code",
   "execution_count": 29,
   "metadata": {},
   "outputs": [
    {
     "name": "stdout",
     "output_type": "stream",
     "text": [
      "\n",
      "Error in glmer(acc ~ cond * congruence + (1 | participant), dfreduc, family = binomial) : \n",
      "  could not find function \"glmer\"\n"
     ]
    }
   ],
   "source": [
    "%%R -i dfreduc\n",
    "m = glmer(acc ~ cond * congruence + (1 | participant), dfreduc, family=binomial)\n",
    "m.null = glmer(acc ~ cond + congruence + (1 | participant), dfreduc, family=binomial)\n",
    "lr.test(m, m.null, \"interaction effect of selective attention * congruence\")"
   ]
  },
  {
   "cell_type": "code",
   "execution_count": 1,
   "metadata": {},
   "outputs": [
    {
     "name": "stderr",
     "output_type": "stream",
     "text": [
      "UsageError: Cell magic `%%R` not found.\n"
     ]
    }
   ],
   "source": [
    "%%R -i dfrt\n",
    "m = glmer(rt ~ cond * congruence + (1 | participant), dfrt)\n",
    "m.null = glmer(rt ~ cond + congruence + (1 | participant), dfrt)\n",
    "lr.test(m, m.null, \"interaction effect of selective attention * congruence\")"
   ]
  },
  {
   "cell_type": "markdown",
   "metadata": {},
   "source": [
    "#### **Conclusion**: It's easy to do data management and manipulations in python, but briefly switch to R for some analysis or visualization that is better supported in R (or vice versa with reticulate)."
   ]
  },
  {
   "cell_type": "markdown",
   "metadata": {},
   "source": [
    "# Sharing/exporting notebooks\n",
    "\n",
    "- Export as (see file-menu) html, pdf, markdown, latex...\n",
    "- Push to github and people can see a pretty-printed but static version (see [the current notebook](https://github.com/gestaltrevision/Reproducible_workflow_tutorial/blob/master/PythoninPsy/tutorialDatawrangling.ipynb))\n",
    "- Use [nbviewer](http://nbviewer.jupyter.org/) to create a rendered, static version of your notebook\n",
    "- Use [Binder](https://mybinder.org/) to create a collection of interactive, linked notebooks "
   ]
  },
  {
   "cell_type": "markdown",
   "metadata": {},
   "source": [
    "# Sources\n",
    "\n",
    "Aside from the examples, this tutorial is basically a mashup of sections of these sources:\n",
    "\n",
    "https://github.com/ujjwalkarn/DataSciencePython\n",
    "\n",
    "### Data wrangling\n",
    "\n",
    "* [Jupyter notebook tutorial](https://www.datacamp.com/community/tutorials/tutorial-jupyter-notebook)\n",
    "* [Interactive pandas tutorial](https://www.datacamp.com/community/tutorials/pandas-tutorial-dataframe-python)  \n",
    "* [Basic pandas tutorial](https://www.dataquest.io/blog/pandas-tutorial-python-2/)\n",
    "* [Basic tutorial pandas in notebook](http://nikgrozev.com/2015/12/27/pandas-in-jupyter-quickstart-and-useful-snippets/)\n",
    "* [Preprocessing issues](https://www.datacamp.com/community/tutorials/the-importance-of-preprocessing-in-data-science-and-the-machine-learning-pipeline-i-centering-scaling-and-k-nearest-neighbours#gs.zBXNP2I)\n",
    "* [Tidy data in python](https://github.com/jfpuget/Tidy-Data/blob/master/Tidy-Data.ipynb)\n",
    "* http://www.jeannicholashould.com/tidy-data-in-python.html\n",
    "\n",
    "### Jupyter notebook/lab\n",
    "* [Notebook tips & tricks, keyboard shortcuts & \"magic\"](https://www.dataquest.io/blog/jupyter-notebook-tips-tricks-shortcuts/)\n",
    "* [Useful Jupyter notebooks](https://github.com/jupyter/jupyter/wiki/A-gallery-of-interesting-Jupyter-Notebooks)\n",
    "\n",
    "### R & python\n",
    "* [use R in jupyter notebooks](http://www.randalolson.com/2013/01/14/filling-in-pythons-gaps-in-statistics-packages-with-rmagic/).\n",
    "- https://github.com/JaredStufft/instructionals/blob/master/Interfacing%20R%20from%20a%20Python%20Notebook.ipynb\n",
    "- https://gist.github.com/simecek/019d87c55fec3839d95bbf8489dde61d\n",
    "\n",
    "### Visualization\n",
    "* https://dsaber.com/2016/10/02/a-dramatic-tour-through-pythons-data-visualization-landscape-including-ggplot-and-altair/\n",
    "* http://pbpython.com/python-vis-flowchart.html\n",
    "* http://pythonplot.com/\n",
    "* http://pbpython.com/visualization-tools-1.html\n",
    "* https://www.dataquest.io/blog/jupyter-notebook-tips-tricks-shortcuts/\n",
    "* https://tomaugspurger.github.io/modern-6-visualization\n",
    "* [Advanced pandas/seaborn tutorial](https://tryolabs.com/blog/2017/03/16/pandas-seaborn-a-guide-to-handle-visualize-data-elegantly)\n",
    "* https://www.marsja.se/response-time-distributions-using-python/\n",
    "* [Understanding Matplotlib](http://pbpython.com/effective-matplotlib.html) \n",
    "* https://towardsdatascience.com/interactive-visualizations-in-jupyter-notebook-3be02ab2b8cd\n",
    "\n",
    "### Analyses:\n",
    "* [Multilevel Logistic Regression using PyMC3](https://dansaber.wordpress.com/2016/08/27/analyze-your-experiment-with-a-multilevel-logistic-regression-using-pymc3%E2%80%8B/)\n",
    "* https://github.com/aloctavodia/Statistical-Rethinking-with-Python-and-PyMC3\n",
    "* [Python for social scientists](http://nealcaren.github.io/python-tutorials/) "
   ]
  }
 ],
 "metadata": {
  "kernelspec": {
   "display_name": "Python 2",
   "language": "python",
   "name": "python2"
  },
  "language_info": {
   "codemirror_mode": {
    "name": "ipython",
    "version": 3
   },
   "file_extension": ".py",
   "mimetype": "text/x-python",
   "name": "python",
   "nbconvert_exporter": "python",
   "pygments_lexer": "ipython3",
   "version": "3.7.3"
  }
 },
 "nbformat": 4,
 "nbformat_minor": 4
}
