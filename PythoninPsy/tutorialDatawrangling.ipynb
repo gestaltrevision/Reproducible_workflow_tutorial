{
 "cells": [
  {
   "cell_type": "markdown",
   "metadata": {},
   "source": [
    "# A brief tour of data wrangling & plotting in python"
   ]
  },
  {
   "cell_type": "code",
   "execution_count": 17,
   "metadata": {},
   "outputs": [
    {
     "data": {
      "text/html": [
       "<style>\n",
       ".jp-CodeCell .jp-Cell-inputWrapper { display: inline; }\n",
       ".jp-CodeCell.jp-mod-selected .jp-Cell-inputWrapper { display: inline; }\n",
       ".jp-Cell.jp-mod-selected~.jp-Cell { display: inline; }\n",
       "</style>"
      ],
      "text/plain": [
       "<IPython.core.display.HTML object>"
      ]
     },
     "metadata": {},
     "output_type": "display_data"
    }
   ],
   "source": [
    "%%html\n",
    "<style>\n",
    ".jp-CodeCell .jp-Cell-inputWrapper { display: inline; }\n",
    ".jp-CodeCell.jp-mod-selected .jp-Cell-inputWrapper { display: inline; }\n",
    ".jp-Cell.jp-mod-selected~.jp-Cell { display: inline; }\n",
    "</style>"
   ]
  },
  {
   "cell_type": "markdown",
   "metadata": {},
   "source": [
    "# You win:"
   ]
  },
  {
   "cell_type": "markdown",
   "metadata": {},
   "source": [
    "- A real programming language (i.e. more transferable skill) \n",
    "- Beauty, elegance, **readability**, in short the zen of python (ex?) \n",
    "- The ultimate glue/scripting language\n",
    "- Usually more straightforward to do non-statistical tasks in Python (than in R), e.g. fancy preprocessing, string processing, web scraping, file handling,...\n",
    "- Connections to many well-developed scientific libraries: numpy (matrix computations), scipy (scientific computing), scikit.image (image processing), scikit.learn (machine learning),...\n",
    "- Interactive notebooks"
   ]
  },
  {
   "cell_type": "markdown",
   "metadata": {},
   "source": [
    "# You lose:"
   ]
  },
  {
   "cell_type": "markdown",
   "metadata": {},
   "source": [
    "- Switch cost (often considerable for non-professional programmers) when you program experiments in python anyway \n",
    "- Even basic data analysis functionality not built-in but available through libraries\n",
    "- Specific advanced analysis techniques not available (though this is rapidly changing, but still more alpha/beta state instead of finished/tested/documented libraries)\n",
    "- The large knowledge base/support (as a statistics tool) that R has (e.g. in department)\n"
   ]
  },
  {
   "cell_type": "markdown",
   "metadata": {},
   "source": [
    "# But lots of commonalities in the logic of data wrangling, plotting & analyzing"
   ]
  },
  {
   "cell_type": "markdown",
   "metadata": {},
   "source": [
    "No reason to choose, you can use both depending on your needs or processing stage.\n"
   ]
  },
  {
   "cell_type": "markdown",
   "metadata": {},
   "source": [
    "# Useful python packages for psychologists"
   ]
  },
  {
   "cell_type": "markdown",
   "metadata": {},
   "source": [
    "### in order of importance:\n",
    "- [pandas](https://pandas.pydata.org/): data handling & descriptive analyses, \n",
    "- Plotting: [matplotlib](https://matplotlib.org/) (~R base plotting), [seaborn](http://seaborn.pydata.org/index.html) and/or [ggplot](http://ggplot.yhathq.com/) \n",
    "- [statsmodels](https://www.statsmodels.org): statistical models (glm, t-tests,...)\n",
    "- Specialized analyses: Psignifit (psychometric function fitting), Bambi/Kabuki (hierarchical bayesian models), [NIPY](http://nipy.org/), [MNE](http://martinos.org/mne/stable/index.html), [PyMVPA](http://www.pymvpa.org/) \n",
    "- [More libraries](https://www.marsja.se/best-python-libraries-psychology/)\n"
   ]
  },
  {
   "cell_type": "markdown",
   "metadata": {},
   "source": [
    "\n",
    "* [Data wrangling with python](https://drive.google.com/open?id=0BwlD7q-DXkdWRUMyc19NdGNKRHc): cleaning data and shaping it into the right format(s) for your visualizations and analyses ([cheat sheet](https://drive.google.com/open?id=0BwlD7q-DXkdWVkJQLVhGeHA3elk)). The importance of the [split-apply-combine](http://blog.yhat.com/posts/grouping-pandas.html) method (much more in this [book on python for data analysis](https://drive.google.com/open?id=0BwlD7q-DXkdWZHB6a0szLVN5WDQ)).\n",
    "* [Python Data Science Handbook](https://github.com/jakevdp/PythonDataScienceHandbook)\n",
    "* [Python for social scientists](http://nealcaren.github.io/python-tutorials/) \n",
    "* [Jupyter notebook tutorial](https://www.datacamp.com/community/tutorials/tutorial-jupyter-notebook)\n",
    "* [Interactive pandas tutorial](https://www.datacamp.com/community/tutorials/pandas-tutorial-dataframe-python)  \n",
    "* [Basic pandas tutorial](https://www.dataquest.io/blog/pandas-tutorial-python-2/)\n",
    "* [Basic tutorial pandas in notebook](http://nikgrozev.com/2015/12/27/pandas-in-jupyter-quickstart-and-useful-snippets/)\n",
    "* [Advanced pandas/seaborn tutorial](https://tryolabs.com/blog/2017/03/16/pandas-seaborn-a-guide-to-handle-visualize-data-elegantly)\n",
    "* [Preprocessing issues](https://www.datacamp.com/community/tutorials/the-importance-of-preprocessing-in-data-science-and-the-machine-learning-pipeline-i-centering-scaling-and-k-nearest-neighbours#gs.zBXNP2I)\n",
    "* [Tidy data in python](https://github.com/jfpuget/Tidy-Data/blob/master/Tidy-Data.ipynb) ([more](http://www.jeannicholashould.com/tidy-data-in-python.html))\n",
    "* [Notebook keyboard shortcuts & \"magic\"](https://www.dataquest.io/blog/jupyter-notebook-tips-tricks-shortcuts/)\n",
    "* [Multilevel Logistic Regression using PyMC3​](https://dansaber.wordpress.com/2016/08/27/analyze-your-experiment-with-a-multilevel-logistic-regression-using-pymc3%E2%80%8B/)\n",
    "* [Understanding Matplotlib](http://pbpython.com/effective-matplotlib.html) \n",
    "* [Useful Jupyter notebooks](https://github.com/ipython/ipython/wiki/A-gallery-of-interesting-IPython-Notebooks#psychology-and-neuroscience)\n",
    "* [use R in jupyter notebooks](http://www.randalolson.com/2013/01/14/filling-in-pythons-gaps-in-statistics-packages-with-rmagic/).\n"
   ]
  },
  {
   "cell_type": "markdown",
   "metadata": {},
   "source": [
    "# Interfacing between the two"
   ]
  },
  {
   "cell_type": "code",
   "execution_count": 33,
   "metadata": {},
   "outputs": [
    {
     "name": "stdout",
     "output_type": "stream",
     "text": [
      "10\n"
     ]
    }
   ],
   "source": [
    "from __future__ import print_function\n",
    "from IPython.html.widgets import interact, interactive, fixed\n",
    "from IPython.html import widgets\n",
    "\n",
    "def f(x):\n",
    "    print(x)\n",
    "    \n",
    "interact(f, x=10);\n"
   ]
  }
 ],
 "metadata": {
  "kernelspec": {
   "display_name": "Python 2",
   "language": "python",
   "name": "python2"
  },
  "language_info": {
   "codemirror_mode": {
    "name": "ipython",
    "version": 2
   },
   "file_extension": ".py",
   "mimetype": "text/x-python",
   "name": "python",
   "nbconvert_exporter": "python",
   "pygments_lexer": "ipython2",
   "version": "2.7.14"
  }
 },
 "nbformat": 4,
 "nbformat_minor": 2
}
